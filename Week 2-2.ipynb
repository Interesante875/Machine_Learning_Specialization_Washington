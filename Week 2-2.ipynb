{
 "cells": [
  {
   "cell_type": "code",
   "execution_count": 164,
   "metadata": {},
   "outputs": [],
   "source": [
    "import numpy as np\n",
    "import csv\n",
    "import pandas as pd\n",
    "import re\n",
    "import json\n",
    "import string\n",
    "import copy\n",
    "from scipy.sparse import csr_matrix\n",
    "from sklearn.neighbors import NearestNeighbors\n",
    "from sklearn.feature_extraction.text import CountVectorizer\n",
    "from sklearn.metrics.pairwise import euclidean_distances\n",
    "from sklearn.metrics.pairwise import cosine_distances\n",
    "from sklearn.metrics import pairwise_distances\n",
    "import matplotlib.pyplot as plt          # plotting\n",
    "%matplotlib inline"
   ]
  },
  {
   "cell_type": "code",
   "execution_count": 2,
   "metadata": {},
   "outputs": [],
   "source": [
    "wiki = pd.read_csv('Week_2/people_wiki.csv')\n",
    "with open('Week_2/people_wiki_map_index_to_word.json') as f:\n",
    "    map_index_to_words = json.load(f)\n",
    "\n",
    "    "
   ]
  },
  {
   "cell_type": "code",
   "execution_count": 3,
   "metadata": {},
   "outputs": [],
   "source": [
    "def norm(x):\n",
    "    sum_sq = x.dot(x.T)\n",
    "    norm = np.sqrt(sum_sq)\n",
    "    return (norm)\n",
    "\n",
    "def remove_punctuation(text):\n",
    "    trans = str.maketrans('','',string.punctuation)\n",
    "    return text.translate(trans) \n",
    "\n",
    "def load_sparse_csr(filename):\n",
    "    loader = np.load(filename)\n",
    "    data = loader['data']\n",
    "    indices = loader['indices']\n",
    "    indptr = loader['indptr']\n",
    "    shape = loader['shape']\n",
    "    \n",
    "    return csr_matrix( (data, indices, indptr), shape)\n",
    "\n",
    "def generate_random_vectors(num_vector, dim):\n",
    "    return np.random.randn(dim, num_vector)\n",
    "    "
   ]
  },
  {
   "cell_type": "code",
   "execution_count": 5,
   "metadata": {},
   "outputs": [],
   "source": [
    "corpus = load_sparse_csr('Week_2/people_wiki_tf_idf.npz')"
   ]
  },
  {
   "cell_type": "code",
   "execution_count": 117,
   "metadata": {},
   "outputs": [
    {
     "data": {
      "text/plain": [
       "<1x547979 sparse matrix of type '<class 'numpy.float64'>'\n",
       "\twith 139 stored elements in Compressed Sparse Row format>"
      ]
     },
     "execution_count": 117,
     "metadata": {},
     "output_type": "execute_result"
    }
   ],
   "source": [
    "corpus[0,:]"
   ]
  },
  {
   "cell_type": "code",
   "execution_count": 6,
   "metadata": {},
   "outputs": [
    {
     "name": "stdout",
     "output_type": "stream",
     "text": [
      "[[ 1.76405235  0.40015721  0.97873798]\n",
      " [ 2.2408932   1.86755799 -0.97727788]\n",
      " [ 0.95008842 -0.15135721 -0.10321885]\n",
      " [ 0.4105985   0.14404357  1.45427351]\n",
      " [ 0.76103773  0.12167502  0.44386323]]\n"
     ]
    }
   ],
   "source": [
    "# Generate 3 random vectors of dimension 5, arranged into a single 5 x 3 matrix.\n",
    "np.random.seed(0) # set seed=0 for consistent results\n",
    "print (generate_random_vectors(num_vector=3, dim=5))"
   ]
  },
  {
   "cell_type": "code",
   "execution_count": 7,
   "metadata": {},
   "outputs": [
    {
     "name": "stdout",
     "output_type": "stream",
     "text": [
      "(547979, 16)\n"
     ]
    }
   ],
   "source": [
    "np.random.seed(0)\n",
    "random_vectors = generate_random_vectors(num_vector=16, dim=547979)\n",
    "print (random_vectors.shape)"
   ]
  },
  {
   "cell_type": "code",
   "execution_count": 139,
   "metadata": {},
   "outputs": [
    {
     "name": "stdout",
     "output_type": "stream",
     "text": [
      "(1, 547979)\n",
      "[ True]\n",
      "[ True]\n"
     ]
    }
   ],
   "source": [
    "doc = corpus[0, :] # vector of tf-idf values for document 0\n",
    "print(doc.shape)\n",
    "print (doc.dot(random_vectors[:, 0]) >= 0) # True if positive sign; False if negative sign\n",
    "print (doc.dot(random_vectors[:, 1]) >= 0)  # True if positive sign; False if negative sign"
   ]
  },
  {
   "cell_type": "code",
   "execution_count": 10,
   "metadata": {},
   "outputs": [
    {
     "name": "stdout",
     "output_type": "stream",
     "text": [
      "[[ True  True False False False  True  True False  True  True  True False\n",
      "  False  True False  True]]\n",
      "[[1 1 0 0 0 1 1 0 1 1 1 0 0 1 0 1]]\n"
     ]
    }
   ],
   "source": [
    "print (doc.dot(random_vectors) >= 0) # should return an array of 16 True/False bits\n",
    "print (np.array(doc.dot(random_vectors) >= 0, dtype=int)) # display index bits in 0/1's"
   ]
  },
  {
   "cell_type": "code",
   "execution_count": 11,
   "metadata": {},
   "outputs": [
    {
     "name": "stdout",
     "output_type": "stream",
     "text": [
      "[[ True  True False False False  True  True False  True  True  True False\n",
      "  False  True False  True]\n",
      " [ True False False False  True  True False  True  True False  True False\n",
      "   True False False  True]]\n",
      "[[ True  True False ...  True False  True]\n",
      " [ True False False ... False False  True]\n",
      " [False  True False ...  True False  True]\n",
      " ...\n",
      " [ True  True False ...  True  True  True]\n",
      " [False  True  True ...  True False  True]\n",
      " [ True False  True ... False False  True]]\n"
     ]
    }
   ],
   "source": [
    "print (corpus[0:2].dot(random_vectors) >= 0) # compute bit indices of first two documents\n",
    "print (corpus.dot(random_vectors) >= 0) # compute bit indices of ALL documents"
   ]
  },
  {
   "cell_type": "code",
   "execution_count": 12,
   "metadata": {},
   "outputs": [
    {
     "name": "stdout",
     "output_type": "stream",
     "text": [
      "[[ True  True False False False  True  True False  True  True  True False\n",
      "  False  True False  True]]\n",
      "[32768 16384  8192  4096  2048  1024   512   256   128    64    32    16\n",
      "     8     4     2     1]\n",
      "[50917]\n"
     ]
    }
   ],
   "source": [
    "doc = corpus[0, :]  # first document\n",
    "index_bits = (doc.dot(random_vectors) >= 0)\n",
    "powers_of_two = (1 << np.arange(15, -1, -1))\n",
    "print (index_bits)\n",
    "print (powers_of_two)          # [32768, 16384, 8192, 4096, 2048, 1024, 512, 256, 128, 64, 32, 16, 8, 4, 2, 1]\n",
    "print (index_bits.dot(powers_of_two))"
   ]
  },
  {
   "cell_type": "code",
   "execution_count": 118,
   "metadata": {},
   "outputs": [
    {
     "name": "stdout",
     "output_type": "stream",
     "text": [
      "(59071,)\n"
     ]
    }
   ],
   "source": [
    "## This array gives us the integer index of the bins for all documents.\n",
    "index_bits = corpus.dot(random_vectors) >= 0\n",
    "print (index_bits.dot(powers_of_two).shape)"
   ]
  },
  {
   "cell_type": "code",
   "execution_count": 144,
   "metadata": {},
   "outputs": [],
   "source": [
    "\"\"\"\n",
    "Now we are ready to complete the following function. \n",
    "Given the integer bin indices for the documents, you should compile a list of document IDs that belong to each bin. \n",
    "Since a list is to be maintained for each unique bin index, a dictionary of lists is used.\n",
    "\n",
    "1. Compute the integer bin indices. This step is already completed. \n",
    "\n",
    "2. For each document in the dataset, do the following: \n",
    "\n",
    "Get the integer bin index for the document. \n",
    "Fetch the list of document ids associated with the bin; if no list yet exists for this bin, assign the bin an empty list. \n",
    "Add the document id to the end of the list. \n",
    "\n",
    "\"\"\"\n",
    "def train_lsh(data, num_vector=16, seed=None):\n",
    "    \n",
    "    dim = data.shape[1]\n",
    "    if seed is not None:\n",
    "        np.random.seed(seed)\n",
    "    random_vectors = generate_random_vectors(num_vector, dim)\n",
    "  \n",
    "    powers_of_two = 1 << np.arange(num_vector-1, -1, -1)\n",
    "  \n",
    "    table = {}\n",
    "    \n",
    "    # Partition data points into bins\n",
    "    bin_index_bits = (data.dot(random_vectors) >= 0)\n",
    "  \n",
    "    # Encode bin index bits into integers\n",
    "    bin_indices = bin_index_bits.dot(powers_of_two)\n",
    "    \n",
    "    # Update `table` so that `table[i]` is the list of document ids with bin index equal to i.\n",
    "    for data_index, bin_index in enumerate(bin_indices):\n",
    "        if bin_index not in table:\n",
    "            # If no list yet exists for this bin, assign the bin an empty list.\n",
    "            table[bin_index] = [] # YOUR CODE HERE\n",
    "        # Fetch the list of document ids associated with the bin and add the document id to the end.\n",
    "        table[bin_index].append(data_index)# YOUR CODE HERE\n",
    "\n",
    "    model = {'data': data,\n",
    "             'bin_index_bits': bin_index_bits,\n",
    "             'bin_indices': bin_indices,\n",
    "             'table': table,\n",
    "             'random_vectors': random_vectors,\n",
    "             'num_vector': num_vector}\n",
    "    \n",
    "    return model"
   ]
  },
  {
   "cell_type": "code",
   "execution_count": 145,
   "metadata": {},
   "outputs": [
    {
     "name": "stdout",
     "output_type": "stream",
     "text": [
      "Passed!\n"
     ]
    }
   ],
   "source": [
    "model = train_lsh(corpus, num_vector=16, seed=143)\n",
    "table = model['table']\n",
    "if   0 in table and table[0]   == [39583] and \\\n",
    "   143 in table and table[143] == [19693, 28277, 29776, 30399]:\n",
    "    print ('Passed!')\n",
    "else:\n",
    "    print ('Check your code.')"
   ]
  },
  {
   "cell_type": "code",
   "execution_count": 18,
   "metadata": {},
   "outputs": [
    {
     "name": "stdout",
     "output_type": "stream",
     "text": [
      "                                              URI          name  \\\n",
      "35817  <http://dbpedia.org/resource/Barack_Obama>  Barack Obama   \n",
      "\n",
      "                                                    text  \n",
      "35817  barack hussein obama ii brk husen bm born augu...  \n"
     ]
    }
   ],
   "source": [
    "print (wiki[wiki['name'] == 'Barack Obama'])"
   ]
  },
  {
   "cell_type": "code",
   "execution_count": 142,
   "metadata": {},
   "outputs": [
    {
     "name": "stdout",
     "output_type": "stream",
     "text": [
      "(1, 547979)\n",
      "[[ True  True False False False  True False False False False False  True\n",
      "  False False  True False]]\n",
      "[32768 16384  8192  4096  2048  1024   512   256   128    64    32    16\n",
      "     8     4     2     1]\n",
      "[50194]\n"
     ]
    }
   ],
   "source": [
    "Obama_doc = corpus[35817,:]\n",
    "print(Obama_doc.shape)\n",
    "Obama_index_bits = (Obama_doc.dot(model['random_vectors']) >= 0)\n",
    "powers_of_two = (1 << np.arange(15, -1, -1))\n",
    "print (Obama_index_bits)\n",
    "print (powers_of_two)          # [32768, 16384, 8192, 4096, 2048, 1024, 512, 256, 128, 64, 32, 16, 8, 4, 2, 1]\n",
    "print (Obama_index_bits.dot(powers_of_two))"
   ]
  },
  {
   "cell_type": "code",
   "execution_count": 196,
   "metadata": {},
   "outputs": [
    {
     "name": "stdout",
     "output_type": "stream",
     "text": [
      "14\n",
      "370245\n"
     ]
    }
   ],
   "source": [
    "print(sum(model['bin_index_bits'][35817] == model['bin_index_bits'][24478]))\n",
    "print(model['bin_indices'][35817])"
   ]
  },
  {
   "cell_type": "markdown",
   "metadata": {},
   "source": [
    "Quiz Question. What is the document id of Barack Obama's article?\n",
    "ANS: 35817\n",
    "\n",
    "Quiz Question. Which bin contains Barack Obama's article? Enter its integer index. \n",
    "ANS: 50194\n",
    "\n",
    "\n"
   ]
  },
  {
   "cell_type": "code",
   "execution_count": 192,
   "metadata": {
    "collapsed": true
   },
   "outputs": [
    {
     "name": "stdout",
     "output_type": "stream",
     "text": [
      "                                           URI       name  \\\n",
      "24478  <http://dbpedia.org/resource/Joe_Biden>  Joe Biden   \n",
      "\n",
      "                                                    text     id  \n",
      "24478  joseph robinette joe biden jr dosf rbnt badn b...  24478  \n",
      "[[ True False False  True  True False  True False  True  True False False\n",
      "   True False False False  True False False]]\n",
      "[32768 16384  8192  4096  2048  1024   512   256   128    64    32    16\n",
      "     8     4     2     1]\n"
     ]
    },
    {
     "ename": "ValueError",
     "evalue": "shapes (1,19) and (16,) not aligned: 19 (dim 1) != 16 (dim 0)",
     "output_type": "error",
     "traceback": [
      "\u001b[0;31m---------------------------------------------------------------------------\u001b[0m",
      "\u001b[0;31mValueError\u001b[0m                                Traceback (most recent call last)",
      "\u001b[0;32m<ipython-input-192-c00100d8c654>\u001b[0m in \u001b[0;36m<module>\u001b[0;34m\u001b[0m\n\u001b[1;32m      5\u001b[0m \u001b[0mprint\u001b[0m \u001b[0;34m(\u001b[0m\u001b[0mBiden_index_bits\u001b[0m\u001b[0;34m)\u001b[0m\u001b[0;34m\u001b[0m\u001b[0;34m\u001b[0m\u001b[0m\n\u001b[1;32m      6\u001b[0m \u001b[0mprint\u001b[0m \u001b[0;34m(\u001b[0m\u001b[0mpowers_of_two\u001b[0m\u001b[0;34m)\u001b[0m          \u001b[0;31m# [32768, 16384, 8192, 4096, 2048, 1024, 512, 256, 128, 64, 32, 16, 8, 4, 2, 1]\u001b[0m\u001b[0;34m\u001b[0m\u001b[0;34m\u001b[0m\u001b[0m\n\u001b[0;32m----> 7\u001b[0;31m \u001b[0mprint\u001b[0m \u001b[0;34m(\u001b[0m\u001b[0mBiden_index_bits\u001b[0m\u001b[0;34m.\u001b[0m\u001b[0mdot\u001b[0m\u001b[0;34m(\u001b[0m\u001b[0mpowers_of_two\u001b[0m\u001b[0;34m)\u001b[0m\u001b[0;34m)\u001b[0m\u001b[0;34m\u001b[0m\u001b[0;34m\u001b[0m\u001b[0m\n\u001b[0m",
      "\u001b[0;31mValueError\u001b[0m: shapes (1,19) and (16,) not aligned: 19 (dim 1) != 16 (dim 0)"
     ]
    }
   ],
   "source": [
    "print (wiki[wiki['name'] == 'Joe Biden'])\n",
    "Biden_doc = corpus[24478,:]\n",
    "Biden_index_bits = (Biden_doc.dot(model['random_vectors']) >= 0)\n",
    "powers_of_two = (1 << np.arange(15, -1, -1))\n",
    "print (Biden_index_bits)\n",
    "print (powers_of_two)          # [32768, 16384, 8192, 4096, 2048, 1024, 512, 256, 128, 64, 32, 16, 8, 4, 2, 1]\n",
    "print (Biden_index_bits.dot(powers_of_two))"
   ]
  },
  {
   "cell_type": "code",
   "execution_count": 193,
   "metadata": {},
   "outputs": [
    {
     "name": "stdout",
     "output_type": "stream",
     "text": [
      "False\n"
     ]
    },
    {
     "ename": "TypeError",
     "evalue": "'bool' object is not iterable",
     "output_type": "error",
     "traceback": [
      "\u001b[0;31m---------------------------------------------------------------------------\u001b[0m",
      "\u001b[0;31mTypeError\u001b[0m                                 Traceback (most recent call last)",
      "\u001b[0;32m<ipython-input-193-141306b34b7f>\u001b[0m in \u001b[0;36m<module>\u001b[0;34m\u001b[0m\n\u001b[1;32m      1\u001b[0m \u001b[0mprint\u001b[0m \u001b[0;34m(\u001b[0m\u001b[0mObama_index_bits\u001b[0m\u001b[0;34m.\u001b[0m\u001b[0mflatten\u001b[0m\u001b[0;34m(\u001b[0m\u001b[0;34m)\u001b[0m \u001b[0;34m==\u001b[0m \u001b[0mBiden_index_bits\u001b[0m\u001b[0;34m.\u001b[0m\u001b[0mflatten\u001b[0m\u001b[0;34m(\u001b[0m\u001b[0;34m)\u001b[0m\u001b[0;34m)\u001b[0m\u001b[0;34m\u001b[0m\u001b[0;34m\u001b[0m\u001b[0m\n\u001b[0;32m----> 2\u001b[0;31m \u001b[0mprint\u001b[0m\u001b[0;34m(\u001b[0m\u001b[0msum\u001b[0m\u001b[0;34m(\u001b[0m\u001b[0mObama_index_bits\u001b[0m\u001b[0;34m.\u001b[0m\u001b[0mflatten\u001b[0m\u001b[0;34m(\u001b[0m\u001b[0;34m)\u001b[0m \u001b[0;34m==\u001b[0m \u001b[0mBiden_index_bits\u001b[0m\u001b[0;34m.\u001b[0m\u001b[0mflatten\u001b[0m\u001b[0;34m(\u001b[0m\u001b[0;34m)\u001b[0m\u001b[0;34m)\u001b[0m\u001b[0;34m)\u001b[0m\u001b[0;34m\u001b[0m\u001b[0;34m\u001b[0m\u001b[0m\n\u001b[0m",
      "\u001b[0;31mTypeError\u001b[0m: 'bool' object is not iterable"
     ]
    }
   ],
   "source": [
    "print (Obama_index_bits.flatten() == Biden_index_bits.flatten())\n",
    "print(sum(Obama_index_bits.flatten() == Biden_index_bits.flatten()))"
   ]
  },
  {
   "cell_type": "markdown",
   "metadata": {},
   "source": [
    "Recall from the previous assignment that Joe Biden was a close neighbor of Barack Obama. \n",
    "\n",
    "Quiz Question. Examine the bit representations of the bins containing Barack Obama and Joe Biden. In how many places do they agree?\n",
    "ANS: 14\n",
    "\n",
    "Compare the result with a former British diplomat, whose bin representation agrees with Obama's in only 8 out of 16 places."
   ]
  },
  {
   "cell_type": "code",
   "execution_count": 148,
   "metadata": {},
   "outputs": [
    {
     "name": "stdout",
     "output_type": "stream",
     "text": [
      "                                                     URI  \\\n",
      "22745  <http://dbpedia.org/resource/Wynn_Normington_H...   \n",
      "\n",
      "                             name  \\\n",
      "22745  Wynn Normington Hugh-Jones   \n",
      "\n",
      "                                                    text  \n",
      "22745  sir wynn normington hughjones kb sometimes kno...  \n",
      "[0 0 0 1 0 0 1 0 0 0 1 1 0 1 0 0]\n",
      "[False False  True False  True False False  True  True  True False  True\n",
      "  True False False  True]\n"
     ]
    }
   ],
   "source": [
    "print (wiki[wiki['name']=='Wynn Normington Hugh-Jones'])\n",
    "\n",
    "print (np.array(model['bin_index_bits'][22745], dtype=int)) # list of 0/1's\n",
    "print (model['bin_index_bits'][35817] == model['bin_index_bits'][22745])"
   ]
  },
  {
   "cell_type": "code",
   "execution_count": 28,
   "metadata": {},
   "outputs": [
    {
     "name": "stdout",
     "output_type": "stream",
     "text": [
      "[21426, 35817, 39426, 50261, 53937]\n"
     ]
    }
   ],
   "source": [
    "print (model['table'][model['bin_indices'][35817]])"
   ]
  },
  {
   "cell_type": "code",
   "execution_count": 35,
   "metadata": {},
   "outputs": [
    {
     "name": "stdout",
     "output_type": "stream",
     "text": [
      "21426              Mark Boulware\n",
      "39426    John Wells (politician)\n",
      "50261          Francis Longstaff\n",
      "53937      Madurai T. Srinivasan\n",
      "Name: name, dtype: object\n",
      "It turns out that Joe Biden is much closer to Barack Obama than any of the four documents, even though Biden's bin representation differs from Obama's by 2 bits.\n"
     ]
    }
   ],
   "source": [
    "doc_ids = list(model['table'][model['bin_indices'][35817]])\n",
    "doc_ids.remove(35817) # display documents other than Obama\n",
    "\n",
    "docs = wiki.iloc[doc_ids]\n",
    "print(docs['name'])\n",
    "print (\"It turns out that Joe Biden is much closer to Barack Obama than any of the four documents, even though Biden's bin representation differs from Obama's by 2 bits.\")"
   ]
  },
  {
   "cell_type": "code",
   "execution_count": 149,
   "metadata": {},
   "outputs": [
    {
     "name": "stdout",
     "output_type": "stream",
     "text": [
      "================= Cosine distance from Barack Obama\n",
      "Barack Obama - Joe Biden               : 0.703139\n",
      "Barack Obama - Mark Boulware: 0.9508667575252789\n",
      "Barack Obama - John Wells (politician): 0.975966004109956\n",
      "Barack Obama - Francis Longstaff: 0.9782561630406376\n",
      "Barack Obama - Madurai T. Srinivasan: 0.9930921484244789\n"
     ]
    }
   ],
   "source": [
    "def cosine_distance(x, y):\n",
    "    xy = x.dot(y.T)\n",
    "    dist = xy/(norm(x)*norm(y))\n",
    "    return 1-dist[0,0]\n",
    "\n",
    "obama_tf_idf = corpus[35817,:]\n",
    "biden_tf_idf = corpus[24478,:]\n",
    "\n",
    "print ('================= Cosine distance from Barack Obama')\n",
    "print ('Barack Obama - {0:24s}: {1:f}'.format('Joe Biden',\n",
    "                                             cosine_distance(obama_tf_idf, biden_tf_idf)))\n",
    "for doc_id in doc_ids:\n",
    "    doc_tf_idf = corpus[doc_id,:]\n",
    "    print ('Barack Obama - {}: {}'.format(wiki.iloc[doc_id]['name'], cosine_distance(obama_tf_idf, doc_tf_idf)))"
   ]
  },
  {
   "cell_type": "markdown",
   "metadata": {},
   "source": [
    "Moral of the story. Similar data points will in general tend to fall into nearby bins, but that's all we can say about LSH. In a high-dimensional space such as text features, we often get unlucky with our selection of only a few random vectors such that dissimilar data points go into the same bin while similar data points fall into different bins. Given a query document, we must consider all documents in the nearby bins and sort them according to their actual distances from the query."
   ]
  },
  {
   "cell_type": "markdown",
   "metadata": {},
   "source": [
    "1. Let L be the bit representation of the bin that contains the query documents.\n",
    "2. Consider all documents in bin L.\n",
    "3. Consider documents in the bins whose bit representation differs from L by 1 bit.\n",
    "4. Consider documents in the bins whose bit representation differs from L by 2 bits.\n",
    "\n",
    "To obtain candidate bins that differ from the query bin by some number of bits, we use itertools.combinations, which produces all possible subsets of a given list. See this documentation for details.\n",
    "1. Decide on the search radius r. This will determine the number of different bits between the two vectors.\n",
    "2. For each subset (n_1, n_2, ..., n_r) of the list [0, 1, 2, ..., num_vector-1], do the following:\n",
    "   * Flip the bits (n_1, n_2, ..., n_r) of the query bin to produce a new bit vector.\n",
    "   * Fetch the list of documents belonging to the bin indexed by the new bit vector.\n",
    "   * Add those documents to the candidate set."
   ]
  },
  {
   "cell_type": "code",
   "execution_count": 90,
   "metadata": {},
   "outputs": [
    {
     "name": "stdout",
     "output_type": "stream",
     "text": [
      "()\n",
      "1\n"
     ]
    }
   ],
   "source": [
    "from itertools import combinations\n",
    "\n",
    "num_vector = 16\n",
    "search_radius = 0\n",
    "trynerr = [1,2,3,4,5]\n",
    "for diff in combinations(range(num_vector), search_radius):\n",
    "    print (diff)\n",
    "    print(1)\n",
    "    "
   ]
  },
  {
   "cell_type": "code",
   "execution_count": 152,
   "metadata": {},
   "outputs": [],
   "source": [
    "def search_nearby_bins(query_bin_bits, table, search_radius=2, initial_candidates=set()):\n",
    "    \"\"\"\n",
    "    For a given query vector and trained LSH model, return all candidate neighbors for\n",
    "    the query among all bins within the given search radius.\n",
    "    \n",
    "    Example usage\n",
    "    -------------\n",
    "    >>> model = train_lsh(corpus, num_vector=16, seed=143)\n",
    "    >>> q = model['bin_index_bits'][0]  # vector for the first document\n",
    "  \n",
    "    >>> candidates = search_nearby_bins(q, model['table'])\n",
    "    \"\"\"\n",
    "    num_vector = len(query_bin_bits)\n",
    "    powers_of_two = 1 << np.arange(num_vector-1, -1, -1)\n",
    "    \n",
    "    # Allow the user to provide an initial set of candidates.\n",
    "    candidate_set = initial_candidates.copy()\n",
    "    \n",
    "    for different_bits in combinations(range(num_vector), search_radius):       \n",
    "        # Flip the bits (n_1,n_2,...,n_r) of the query bin to produce a new bit vector.\n",
    "        ## Hint: you can iterate over a tuple like a list\n",
    "        alternate_bits = query_bin_bits.copy()\n",
    "        \n",
    "        for i in different_bits:\n",
    "            alternate_bits[i] = not query_bin_bits[i] # YOUR CODE HERE \n",
    "        \n",
    "        # Convert the new bit vector to an integer index\n",
    "        nearby_bin = alternate_bits.dot(powers_of_two)\n",
    "       \n",
    "        # Fetch the list of documents belonging to the bin indexed by the new bit vector.\n",
    "        # Then add those documents to candidate_set\n",
    "        # Make sure that the bin exists in the table!\n",
    "        # Hint: update() method for sets lets you add an entire list to the set\n",
    "        if nearby_bin in table:\n",
    "            candidate_set.update(table[nearby_bin]) # YOUR CODE HERE: Update candidate_set with the documents in this bin.\n",
    "            \n",
    "    return candidate_set"
   ]
  },
  {
   "cell_type": "code",
   "execution_count": 153,
   "metadata": {},
   "outputs": [],
   "source": [
    "import types\n",
    "import weakref\n",
    "from copyreg import dispatch_table"
   ]
  },
  {
   "cell_type": "code",
   "execution_count": 154,
   "metadata": {},
   "outputs": [
    {
     "name": "stdout",
     "output_type": "stream",
     "text": [
      "Passed test\n",
      "List of documents in the same bin as Obama: 35817, 21426, 53937, 39426, 50261\n"
     ]
    }
   ],
   "source": [
    "obama_bin_index = model['bin_index_bits'][35817] # bin index of Barack Obama\n",
    "\n",
    "candidate_set = search_nearby_bins(obama_bin_index, model['table'], search_radius=0)\n",
    "if candidate_set == set([35817, 21426, 53937, 39426, 50261]):\n",
    "    print ('Passed test')\n",
    "else:\n",
    "    print(candidate_set)\n",
    "    print ('Check your code')\n",
    "print ('List of documents in the same bin as Obama: 35817, 21426, 53937, 39426, 50261')"
   ]
  },
  {
   "cell_type": "code",
   "execution_count": 155,
   "metadata": {},
   "outputs": [
    {
     "name": "stdout",
     "output_type": "stream",
     "text": [
      "Passed test\n"
     ]
    }
   ],
   "source": [
    "candidate_set = search_nearby_bins(obama_bin_index, model['table'], search_radius=1, initial_candidates=candidate_set)\n",
    "if candidate_set == set([39426, 38155, 38412, 28444, 9757, 41631, 39207, 59050, 47773, 53937, 21426, 34547,\n",
    "                         23229, 55615, 39877, 27404, 33996, 21715, 50261, 21975, 33243, 58723, 35817, 45676,\n",
    "                         19699, 2804, 20347]):\n",
    "    print ('Passed test')\n",
    "else:\n",
    "    print(candidate_set)\n",
    "    print(len(candidate_set))\n",
    "    print ('Check your code')"
   ]
  },
  {
   "cell_type": "code",
   "execution_count": 177,
   "metadata": {},
   "outputs": [],
   "source": [
    "def query(vec, model, k, max_search_radius):\n",
    "  \n",
    "    data = model['data']\n",
    "    table = model['table']\n",
    "    random_vectors = model['random_vectors']\n",
    "    num_vector = random_vectors.shape[1]\n",
    "    \n",
    "    \n",
    "    # Compute bin index for the query vector, in bit representation.\n",
    "    bin_index_bits = (vec.dot(random_vectors) >= 0).flatten()\n",
    "    \n",
    "    # Search nearby bins and collect candidates\n",
    "    candidate_set = set()\n",
    "    for search_radius in range(max_search_radius+1):\n",
    "        candidate_set = search_nearby_bins(bin_index_bits, table, search_radius, initial_candidates=candidate_set)\n",
    "    \n",
    "    # Sort candidates by their true distances from the query\n",
    "    nearest_neighbors = pd.DataFrame({'id' : list(candidate_set)})\n",
    "    candidates = data[np.array(list(candidate_set)),:]\n",
    "    nearest_neighbors['distance'] = pairwise_distances(candidates, vec, metric='cosine').flatten()\n",
    "    \n",
    "    return nearest_neighbors.sort_values(by=['distance'], ascending=True)[:k],len(candidate_set)"
   ]
  },
  {
   "cell_type": "code",
   "execution_count": 178,
   "metadata": {},
   "outputs": [
    {
     "name": "stdout",
     "output_type": "stream",
     "text": [
      "(        id  distance\n",
      "369  35817  0.000000\n",
      "704  24478  0.703139\n",
      "267  56008  0.856848\n",
      "132  37199  0.874669\n",
      "515  40353  0.890034\n",
      "390   9267  0.898377\n",
      "228  55909  0.899340\n",
      "359   9165  0.900921\n",
      "229  57958  0.903003\n",
      "269  49872  0.909533, 727)\n"
     ]
    }
   ],
   "source": [
    "print (query(corpus[35817,:], model, k=10, max_search_radius=3))"
   ]
  },
  {
   "cell_type": "code",
   "execution_count": 179,
   "metadata": {},
   "outputs": [],
   "source": [
    "wiki['id'] = wiki.index\n",
    "#wiki['id'].astype(str).astype(int)"
   ]
  },
  {
   "cell_type": "code",
   "execution_count": 180,
   "metadata": {},
   "outputs": [
    {
     "data": {
      "text/html": [
       "<div>\n",
       "<style scoped>\n",
       "    .dataframe tbody tr th:only-of-type {\n",
       "        vertical-align: middle;\n",
       "    }\n",
       "\n",
       "    .dataframe tbody tr th {\n",
       "        vertical-align: top;\n",
       "    }\n",
       "\n",
       "    .dataframe thead th {\n",
       "        text-align: right;\n",
       "    }\n",
       "</style>\n",
       "<table border=\"1\" class=\"dataframe\">\n",
       "  <thead>\n",
       "    <tr style=\"text-align: right;\">\n",
       "      <th></th>\n",
       "      <th>id</th>\n",
       "      <th>name</th>\n",
       "    </tr>\n",
       "  </thead>\n",
       "  <tbody>\n",
       "    <tr>\n",
       "      <th>0</th>\n",
       "      <td>0</td>\n",
       "      <td>Digby Morrell</td>\n",
       "    </tr>\n",
       "    <tr>\n",
       "      <th>1</th>\n",
       "      <td>1</td>\n",
       "      <td>Alfred J. Lewy</td>\n",
       "    </tr>\n",
       "    <tr>\n",
       "      <th>2</th>\n",
       "      <td>2</td>\n",
       "      <td>Harpdog Brown</td>\n",
       "    </tr>\n",
       "    <tr>\n",
       "      <th>3</th>\n",
       "      <td>3</td>\n",
       "      <td>Franz Rottensteiner</td>\n",
       "    </tr>\n",
       "    <tr>\n",
       "      <th>4</th>\n",
       "      <td>4</td>\n",
       "      <td>G-Enka</td>\n",
       "    </tr>\n",
       "    <tr>\n",
       "      <th>...</th>\n",
       "      <td>...</td>\n",
       "      <td>...</td>\n",
       "    </tr>\n",
       "    <tr>\n",
       "      <th>59066</th>\n",
       "      <td>59066</td>\n",
       "      <td>Olari Elts</td>\n",
       "    </tr>\n",
       "    <tr>\n",
       "      <th>59067</th>\n",
       "      <td>59067</td>\n",
       "      <td>Scott F. Crago</td>\n",
       "    </tr>\n",
       "    <tr>\n",
       "      <th>59068</th>\n",
       "      <td>59068</td>\n",
       "      <td>David Cass (footballer)</td>\n",
       "    </tr>\n",
       "    <tr>\n",
       "      <th>59069</th>\n",
       "      <td>59069</td>\n",
       "      <td>Keith Elias</td>\n",
       "    </tr>\n",
       "    <tr>\n",
       "      <th>59070</th>\n",
       "      <td>59070</td>\n",
       "      <td>Fawaz Damrah</td>\n",
       "    </tr>\n",
       "  </tbody>\n",
       "</table>\n",
       "<p>59071 rows × 2 columns</p>\n",
       "</div>"
      ],
      "text/plain": [
       "          id                     name\n",
       "0          0            Digby Morrell\n",
       "1          1           Alfred J. Lewy\n",
       "2          2            Harpdog Brown\n",
       "3          3      Franz Rottensteiner\n",
       "4          4                   G-Enka\n",
       "...      ...                      ...\n",
       "59066  59066               Olari Elts\n",
       "59067  59067           Scott F. Crago\n",
       "59068  59068  David Cass (footballer)\n",
       "59069  59069              Keith Elias\n",
       "59070  59070             Fawaz Damrah\n",
       "\n",
       "[59071 rows x 2 columns]"
      ]
     },
     "execution_count": 180,
     "metadata": {},
     "output_type": "execute_result"
    }
   ],
   "source": [
    "wiki[['id', 'name']]"
   ]
  },
  {
   "cell_type": "code",
   "execution_count": 181,
   "metadata": {},
   "outputs": [
    {
     "name": "stdout",
     "output_type": "stream",
     "text": [
      "727\n"
     ]
    },
    {
     "data": {
      "text/plain": [
       "369    35817\n",
       "704    24478\n",
       "267    56008\n",
       "132    37199\n",
       "515    40353\n",
       "390     9267\n",
       "228    55909\n",
       "359     9165\n",
       "229    57958\n",
       "269    49872\n",
       "Name: id, dtype: int64"
      ]
     },
     "execution_count": 181,
     "metadata": {},
     "output_type": "execute_result"
    }
   ],
   "source": [
    "result, num_candidates_considered = query(corpus[35817,:], model, k=10, max_search_radius=3)\n",
    "print (num_candidates_considered)\n",
    "result['id']"
   ]
  },
  {
   "cell_type": "code",
   "execution_count": 182,
   "metadata": {},
   "outputs": [
    {
     "data": {
      "text/html": [
       "<div>\n",
       "<style scoped>\n",
       "    .dataframe tbody tr th:only-of-type {\n",
       "        vertical-align: middle;\n",
       "    }\n",
       "\n",
       "    .dataframe tbody tr th {\n",
       "        vertical-align: top;\n",
       "    }\n",
       "\n",
       "    .dataframe thead th {\n",
       "        text-align: right;\n",
       "    }\n",
       "</style>\n",
       "<table border=\"1\" class=\"dataframe\">\n",
       "  <thead>\n",
       "    <tr style=\"text-align: right;\">\n",
       "      <th></th>\n",
       "      <th>id</th>\n",
       "      <th>distance</th>\n",
       "      <th>name</th>\n",
       "    </tr>\n",
       "  </thead>\n",
       "  <tbody>\n",
       "    <tr>\n",
       "      <th>0</th>\n",
       "      <td>35817</td>\n",
       "      <td>0.000000</td>\n",
       "      <td>Barack Obama</td>\n",
       "    </tr>\n",
       "    <tr>\n",
       "      <th>1</th>\n",
       "      <td>24478</td>\n",
       "      <td>0.703139</td>\n",
       "      <td>Joe Biden</td>\n",
       "    </tr>\n",
       "    <tr>\n",
       "      <th>2</th>\n",
       "      <td>56008</td>\n",
       "      <td>0.856848</td>\n",
       "      <td>Nathan Cullen</td>\n",
       "    </tr>\n",
       "    <tr>\n",
       "      <th>3</th>\n",
       "      <td>37199</td>\n",
       "      <td>0.874669</td>\n",
       "      <td>Barry Sullivan (lawyer)</td>\n",
       "    </tr>\n",
       "    <tr>\n",
       "      <th>4</th>\n",
       "      <td>40353</td>\n",
       "      <td>0.890034</td>\n",
       "      <td>Neil MacBride</td>\n",
       "    </tr>\n",
       "    <tr>\n",
       "      <th>5</th>\n",
       "      <td>9267</td>\n",
       "      <td>0.898377</td>\n",
       "      <td>Vikramaditya Khanna</td>\n",
       "    </tr>\n",
       "    <tr>\n",
       "      <th>6</th>\n",
       "      <td>55909</td>\n",
       "      <td>0.899340</td>\n",
       "      <td>Herman Cain</td>\n",
       "    </tr>\n",
       "    <tr>\n",
       "      <th>7</th>\n",
       "      <td>9165</td>\n",
       "      <td>0.900921</td>\n",
       "      <td>Raymond F. Clevenger</td>\n",
       "    </tr>\n",
       "    <tr>\n",
       "      <th>8</th>\n",
       "      <td>57958</td>\n",
       "      <td>0.903003</td>\n",
       "      <td>Michael J. Malbin</td>\n",
       "    </tr>\n",
       "    <tr>\n",
       "      <th>9</th>\n",
       "      <td>49872</td>\n",
       "      <td>0.909533</td>\n",
       "      <td>Lowell Barron</td>\n",
       "    </tr>\n",
       "  </tbody>\n",
       "</table>\n",
       "</div>"
      ],
      "text/plain": [
       "      id  distance                     name\n",
       "0  35817  0.000000             Barack Obama\n",
       "1  24478  0.703139                Joe Biden\n",
       "2  56008  0.856848            Nathan Cullen\n",
       "3  37199  0.874669  Barry Sullivan (lawyer)\n",
       "4  40353  0.890034            Neil MacBride\n",
       "5   9267  0.898377      Vikramaditya Khanna\n",
       "6  55909  0.899340              Herman Cain\n",
       "7   9165  0.900921     Raymond F. Clevenger\n",
       "8  57958  0.903003        Michael J. Malbin\n",
       "9  49872  0.909533            Lowell Barron"
      ]
     },
     "execution_count": 182,
     "metadata": {},
     "output_type": "execute_result"
    }
   ],
   "source": [
    "pd.merge(result, wiki[['id', 'name']], how='inner', on='id').sort_values(by=['distance'])"
   ]
  },
  {
   "cell_type": "markdown",
   "metadata": {},
   "source": [
    "Effect of nearby bin search\n",
    "How does nearby bin search affect the outcome of LSH? There are three variables that are affected by the search radius:\n",
    "\n",
    "1. Number of candidate documents considered\n",
    "2. Query time\n",
    "3. Distance of approximate neighbors from the query\n",
    "\n",
    "Let us run LSH multiple times, each with different radii for nearby bin search. We will measure the three variables as discussed above."
   ]
  },
  {
   "cell_type": "code",
   "execution_count": 183,
   "metadata": {},
   "outputs": [
    {
     "name": "stdout",
     "output_type": "stream",
     "text": [
      "Radius: 0\n",
      "      id  distance                     name\n",
      "0  35817  0.000000             Barack Obama\n",
      "1  21426  0.950867            Mark Boulware\n",
      "2  39426  0.975966  John Wells (politician)\n",
      "3  50261  0.978256        Francis Longstaff\n",
      "4  53937  0.993092    Madurai T. Srinivasan\n",
      "0.9745452682750878\n",
      "Radius: 1\n",
      "      id  distance                                   name\n",
      "0  35817  0.000000                           Barack Obama\n",
      "1  41631  0.947459                            Binayak Sen\n",
      "2  21426  0.950867                          Mark Boulware\n",
      "3  33243  0.951766                        Janice Lachance\n",
      "4  33996  0.960859                            Rufus Black\n",
      "5  28444  0.961081                       John Paul Phelan\n",
      "6  20347  0.974130                        Gianni De Fraja\n",
      "7  39426  0.975966                John Wells (politician)\n",
      "8  34547  0.978215  Nathan Murphy (Australian politician)\n",
      "9  50261  0.978256                      Francis Longstaff\n",
      "0.9642887060258674\n",
      "Radius: 2\n",
      "      id  distance                 name\n",
      "0  35817  0.000000         Barack Obama\n",
      "1  24478  0.703139            Joe Biden\n",
      "2   9267  0.898377  Vikramaditya Khanna\n",
      "3  55909  0.899340          Herman Cain\n",
      "4   6949  0.925713   Harrison J. Goldin\n",
      "5  23524  0.926398        Paul Bennecke\n",
      "6   5823  0.928498       Adeleke Mamora\n",
      "7  37262  0.934454           Becky Cain\n",
      "8  10121  0.936896         Bill Bradley\n",
      "9  54782  0.937809   Thomas F. Hartnett\n",
      "0.898958384583039\n",
      "Radius: 3\n",
      "      id  distance                     name\n",
      "0  35817  0.000000             Barack Obama\n",
      "1  24478  0.703139                Joe Biden\n",
      "2  56008  0.856848            Nathan Cullen\n",
      "3  37199  0.874669  Barry Sullivan (lawyer)\n",
      "4  40353  0.890034            Neil MacBride\n",
      "5   9267  0.898377      Vikramaditya Khanna\n",
      "6  55909  0.899340              Herman Cain\n",
      "7   9165  0.900921     Raymond F. Clevenger\n",
      "8  57958  0.903003        Michael J. Malbin\n",
      "9  49872  0.909533            Lowell Barron\n",
      "0.8706516030485053\n",
      "Radius: 4\n",
      "      id  distance                name\n",
      "0  35817  0.000000        Barack Obama\n",
      "1  24478  0.703139           Joe Biden\n",
      "2  36452  0.833985        Bill Clinton\n",
      "3  24848  0.839407     John C. Eastman\n",
      "4  43155  0.840839         Goodwin Liu\n",
      "5  42965  0.849078     John O. Brennan\n",
      "6  56008  0.856848       Nathan Cullen\n",
      "7  38495  0.857574        Barney Frank\n",
      "8  18752  0.858899      Dan W. Reicher\n",
      "9   2092  0.874643  Richard Blumenthal\n",
      "0.8349346493308571\n",
      "Radius: 5\n",
      "      id  distance                     name\n",
      "0  35817  0.000000             Barack Obama\n",
      "1  24478  0.703139                Joe Biden\n",
      "2  38714  0.770561  Eric Stern (politician)\n",
      "3  46811  0.800197            Jeff Sessions\n",
      "4  14754  0.826854              Mitt Romney\n",
      "5  36452  0.833985             Bill Clinton\n",
      "6  40943  0.834535           Jonathan Alter\n",
      "7  55044  0.837013             Wesley Clark\n",
      "8  24848  0.839407          John C. Eastman\n",
      "9  43155  0.840839              Goodwin Liu\n",
      "0.8096145239653255\n",
      "Radius: 6\n",
      "      id  distance                     name\n",
      "0  35817  0.000000             Barack Obama\n",
      "1  24478  0.703139                Joe Biden\n",
      "2  38714  0.770561  Eric Stern (politician)\n",
      "3  44681  0.790926   Jesse Lee (politician)\n",
      "4  46811  0.800197            Jeff Sessions\n",
      "5  48693  0.809192              Artur Davis\n",
      "6  23737  0.810165        John D. McCormick\n",
      "7   4032  0.814555      Kenneth D. Thompson\n",
      "8  28447  0.823229           George W. Bush\n",
      "9  14754  0.826854              Mitt Romney\n",
      "0.7943131453905069\n",
      "Radius: 7\n",
      "      id  distance                     name\n",
      "0  35817  0.000000             Barack Obama\n",
      "1  24478  0.703139                Joe Biden\n",
      "2  38376  0.742982           Samantha Power\n",
      "3  57108  0.758358   Hillary Rodham Clinton\n",
      "4  38714  0.770561  Eric Stern (politician)\n",
      "5  44681  0.790926   Jesse Lee (politician)\n",
      "6  18827  0.798323             Henry Waxman\n",
      "7  46811  0.800197            Jeff Sessions\n",
      "8  48693  0.809192              Artur Davis\n",
      "9  23737  0.810165        John D. McCormick\n",
      "0.7759826058523335\n",
      "Radius: 8\n",
      "      id  distance                     name\n",
      "0  35817  0.000000             Barack Obama\n",
      "1  24478  0.703139                Joe Biden\n",
      "2  38376  0.742982           Samantha Power\n",
      "3  57108  0.758358   Hillary Rodham Clinton\n",
      "4  38714  0.770561  Eric Stern (politician)\n",
      "5  44681  0.790926   Jesse Lee (politician)\n",
      "6  18827  0.798323             Henry Waxman\n",
      "7  46811  0.800197            Jeff Sessions\n",
      "8  48693  0.809192              Artur Davis\n",
      "9  23737  0.810165        John D. McCormick\n",
      "0.7759826058523335\n",
      "Radius: 9\n",
      "      id  distance                     name\n",
      "0  35817  0.000000             Barack Obama\n",
      "1  24478  0.703139                Joe Biden\n",
      "2  38376  0.742982           Samantha Power\n",
      "3  57108  0.758358   Hillary Rodham Clinton\n",
      "4  38714  0.770561  Eric Stern (politician)\n",
      "5  46140  0.784678             Robert Gibbs\n",
      "6  44681  0.790926   Jesse Lee (politician)\n",
      "7  18827  0.798323             Henry Waxman\n",
      "8  46811  0.800197            Jeff Sessions\n",
      "9  39357  0.809051              John McCain\n",
      "0.77313498754465\n",
      "Radius: 10\n",
      "      id  distance                     name\n",
      "0  35817  0.000000             Barack Obama\n",
      "1  24478  0.703139                Joe Biden\n",
      "2  38376  0.742982           Samantha Power\n",
      "3  57108  0.758358   Hillary Rodham Clinton\n",
      "4  38714  0.770561  Eric Stern (politician)\n",
      "5  46140  0.784678             Robert Gibbs\n",
      "6  44681  0.790926   Jesse Lee (politician)\n",
      "7  18827  0.798323             Henry Waxman\n",
      "8   2412  0.799466          Joe the Plumber\n",
      "9  46811  0.800197            Jeff Sessions\n",
      "0.7720700524117311\n",
      "Radius: 11\n",
      "      id  distance                     name\n",
      "0  35817  0.000000             Barack Obama\n",
      "1  24478  0.703139                Joe Biden\n",
      "2  38376  0.742982           Samantha Power\n",
      "3  57108  0.758358   Hillary Rodham Clinton\n",
      "4  38714  0.770561  Eric Stern (politician)\n",
      "5  46140  0.784678             Robert Gibbs\n",
      "6  44681  0.790926   Jesse Lee (politician)\n",
      "7  18827  0.798323             Henry Waxman\n",
      "8   2412  0.799466          Joe the Plumber\n",
      "9  46811  0.800197            Jeff Sessions\n",
      "0.7720700524117311\n",
      "Radius: 12\n",
      "      id  distance                     name\n",
      "0  35817  0.000000             Barack Obama\n",
      "1  24478  0.703139                Joe Biden\n",
      "2  38376  0.742982           Samantha Power\n",
      "3  57108  0.758358   Hillary Rodham Clinton\n",
      "4  38714  0.770561  Eric Stern (politician)\n",
      "5  46140  0.784678             Robert Gibbs\n",
      "6   6796  0.788039              Eric Holder\n",
      "7  44681  0.790926   Jesse Lee (politician)\n",
      "8  18827  0.798323             Henry Waxman\n",
      "9   2412  0.799466          Joe the Plumber\n",
      "0.7707191289494768\n",
      "Radius: 13\n",
      "      id  distance                     name\n",
      "0  35817  0.000000             Barack Obama\n",
      "1  24478  0.703139                Joe Biden\n",
      "2  38376  0.742982           Samantha Power\n",
      "3  57108  0.758358   Hillary Rodham Clinton\n",
      "4  38714  0.770561  Eric Stern (politician)\n",
      "5  46140  0.784678             Robert Gibbs\n",
      "6   6796  0.788039              Eric Holder\n",
      "7  44681  0.790926   Jesse Lee (politician)\n",
      "8  18827  0.798323             Henry Waxman\n",
      "9   2412  0.799466          Joe the Plumber\n",
      "0.7707191289494768\n",
      "Radius: 14\n",
      "      id  distance                     name\n",
      "0  35817  0.000000             Barack Obama\n",
      "1  24478  0.703139                Joe Biden\n",
      "2  38376  0.742982           Samantha Power\n",
      "3  57108  0.758358   Hillary Rodham Clinton\n",
      "4  38714  0.770561  Eric Stern (politician)\n",
      "5  46140  0.784678             Robert Gibbs\n",
      "6   6796  0.788039              Eric Holder\n",
      "7  44681  0.790926   Jesse Lee (politician)\n",
      "8  18827  0.798323             Henry Waxman\n",
      "9   2412  0.799466          Joe the Plumber\n",
      "0.7707191289494768\n",
      "Radius: 15\n",
      "      id  distance                     name\n",
      "0  35817  0.000000             Barack Obama\n",
      "1  24478  0.703139                Joe Biden\n",
      "2  38376  0.742982           Samantha Power\n",
      "3  57108  0.758358   Hillary Rodham Clinton\n",
      "4  38714  0.770561  Eric Stern (politician)\n",
      "5  46140  0.784678             Robert Gibbs\n",
      "6   6796  0.788039              Eric Holder\n",
      "7  44681  0.790926   Jesse Lee (politician)\n",
      "8  18827  0.798323             Henry Waxman\n",
      "9   2412  0.799466          Joe the Plumber\n",
      "0.7707191289494768\n",
      "Radius: 16\n",
      "      id  distance                     name\n",
      "0  35817  0.000000             Barack Obama\n",
      "1  24478  0.703139                Joe Biden\n",
      "2  38376  0.742982           Samantha Power\n",
      "3  57108  0.758358   Hillary Rodham Clinton\n",
      "4  38714  0.770561  Eric Stern (politician)\n",
      "5  46140  0.784678             Robert Gibbs\n",
      "6   6796  0.788039              Eric Holder\n",
      "7  44681  0.790926   Jesse Lee (politician)\n",
      "8  18827  0.798323             Henry Waxman\n",
      "9   2412  0.799466          Joe the Plumber\n",
      "0.7707191289494768\n"
     ]
    }
   ],
   "source": [
    "num_candidates_history = []\n",
    "query_time_history = []\n",
    "max_distance_from_query_history = []\n",
    "min_distance_from_query_history = []\n",
    "average_distance_from_query_history = []\n",
    "import time\n",
    "\n",
    "for max_search_radius in range(17):\n",
    "    start=time.time()\n",
    "    # Perform LSH query using Barack Obama, with max_search_radius\n",
    "    result, num_candidates = query(corpus[35817,:], model, k=10,\n",
    "                                   max_search_radius=max_search_radius)\n",
    "    end=time.time()\n",
    "    query_time = end-start  # Measure time\n",
    "    \n",
    "    print ('Radius:', max_search_radius)\n",
    "    # Display 10 nearest neighbors, along with document ID and name\n",
    "    print (result.merge(wiki[['id', 'name']], how='inner', on='id').sort_values(by=['distance']))\n",
    "    \n",
    "    # Collect statistics on 10 nearest neighbors\n",
    "    average_distance_from_query = result['distance'][1:].mean()\n",
    "    max_distance_from_query = result['distance'][1:].max()\n",
    "    min_distance_from_query = result['distance'][1:].min()\n",
    "    \n",
    "    num_candidates_history.append(num_candidates)\n",
    "    query_time_history.append(query_time)\n",
    "    average_distance_from_query_history.append(average_distance_from_query)\n",
    "    print(average_distance_from_query)\n",
    "    max_distance_from_query_history.append(max_distance_from_query)\n",
    "    min_distance_from_query_history.append(min_distance_from_query)"
   ]
  },
  {
   "cell_type": "code",
   "execution_count": 184,
   "metadata": {},
   "outputs": [
    {
     "data": {
      "image/png": "[encoded data removed]",
      "text/plain": [
       "<Figure size 504x324 with 1 Axes>"
      ]
     },
     "metadata": {
      "needs_background": "light"
     },
     "output_type": "display_data"
    },
    {
     "data": {
      "image/png": "[encoded data removed]",
      "text/plain": [
       "<Figure size 504x324 with 1 Axes>"
      ]
     },
     "metadata": {
      "needs_background": "light"
     },
     "output_type": "display_data"
    },
    {
     "data": {
      "image/png": "[encoded data removed]",
      "text/plain": [
       "<Figure size 504x324 with 1 Axes>"
      ]
     },
     "metadata": {
      "needs_background": "light"
     },
     "output_type": "display_data"
    }
   ],
   "source": [
    "\n",
    "plt.figure(figsize=(7,4.5))\n",
    "plt.plot(num_candidates_history, linewidth=4)\n",
    "plt.xlabel('Search radius')\n",
    "plt.ylabel('# of documents searched')\n",
    "plt.rcParams.update({'font.size':16})\n",
    "plt.tight_layout()\n",
    "\n",
    "plt.figure(figsize=(7,4.5))\n",
    "plt.plot(query_time_history, linewidth=4)\n",
    "plt.xlabel('Search radius')\n",
    "plt.ylabel('Query time (seconds)')\n",
    "plt.rcParams.update({'font.size':16})\n",
    "plt.tight_layout()\n",
    "\n",
    "plt.figure(figsize=(7,4.5))\n",
    "plt.plot(average_distance_from_query_history, linewidth=4, label='Average of 10 neighbors')\n",
    "plt.plot(max_distance_from_query_history, linewidth=4, label='Farthest of 10 neighbors')\n",
    "plt.plot(min_distance_from_query_history, linewidth=4, label='Closest of 10 neighbors')\n",
    "plt.xlabel('Search radius')\n",
    "plt.ylabel('Cosine distance of neighbors')\n",
    "plt.legend(loc='best', prop={'size':15})\n",
    "plt.rcParams.update({'font.size':16})\n",
    "plt.tight_layout()"
   ]
  },
  {
   "cell_type": "markdown",
   "metadata": {},
   "source": [
    "Some observations:\n",
    "\n",
    "As we increase the search radius, we find more neighbors that are a smaller distance away.\n",
    "With increased search radius comes a greater number documents that have to be searched. Query time is higher as a consequence.\n",
    "With sufficiently high search radius, the results of LSH begin to resemble the results of brute-force search."
   ]
  },
  {
   "cell_type": "code",
   "execution_count": 185,
   "metadata": {},
   "outputs": [
    {
     "name": "stdout",
     "output_type": "stream",
     "text": [
      "the smallest search radius that yielded the correct nearest neighbor, namely Joe Biden is 2\n"
     ]
    }
   ],
   "source": [
    "\n",
    "print('the smallest search radius that yielded the correct nearest neighbor, namely Joe Biden is 2')"
   ]
  },
  {
   "cell_type": "code",
   "execution_count": 186,
   "metadata": {},
   "outputs": [
    {
     "name": "stdout",
     "output_type": "stream",
     "text": [
      "the smallest search radius for Barack Obama that produced an average distance of 0.78 or bette is 11\n"
     ]
    }
   ],
   "source": [
    "print('the smallest search radius for Barack Obama that produced an average distance of 0.78 or bette is 11')"
   ]
  },
  {
   "cell_type": "code",
   "execution_count": 187,
   "metadata": {},
   "outputs": [],
   "source": [
    "def brute_force_query(vec, data, k):\n",
    "    num_data_points = data.shape[0]\n",
    "    \n",
    "    # Compute distances for ALL data points in training set\n",
    "    nearest_neighbors = pd.DataFrame({'id':range(num_data_points)})\n",
    "    nearest_neighbors['distance'] = pairwise_distances(data, vec, metric='cosine').flatten()\n",
    "    \n",
    "    return nearest_neighbors.sort_values(by=['distance'], ascending=True)[:k]"
   ]
  },
  {
   "cell_type": "code",
   "execution_count": 188,
   "metadata": {},
   "outputs": [
    {
     "name": "stdout",
     "output_type": "stream",
     "text": [
      "0 / 10\n",
      "1 / 10\n",
      "2 / 10\n",
      "3 / 10\n",
      "4 / 10\n",
      "5 / 10\n",
      "6 / 10\n",
      "7 / 10\n",
      "8 / 10\n",
      "9 / 10\n"
     ]
    }
   ],
   "source": [
    "max_radius = 17\n",
    "precision = {i:[] for i in range(max_radius)}\n",
    "average_distance  = {i:[] for i in range(max_radius)}\n",
    "query_time  = {i:[] for i in range(max_radius)}\n",
    "\n",
    "np.random.seed(0)\n",
    "num_queries = 10\n",
    "for i, ix in enumerate(np.random.choice(corpus.shape[0], num_queries, replace=False)):\n",
    "    print('%s / %s' % (i, num_queries))\n",
    "    ground_truth = set(brute_force_query(corpus[ix,:], corpus, k=25)['id'])\n",
    "    # Get the set of 25 true nearest neighbors\n",
    "    \n",
    "    for r in range(1,max_radius):\n",
    "        start = time.time()\n",
    "        result, num_candidates = query(corpus[ix,:], model, k=10, max_search_radius=r)\n",
    "        end = time.time()\n",
    "\n",
    "        query_time[r].append(end-start)\n",
    "        # precision = (# of neighbors both in result and ground_truth)/10.0\n",
    "        precision[r].append(len(set(result['id']) & ground_truth)/10.0)\n",
    "        average_distance[r].append(result['distance'][1:].mean())"
   ]
  },
  {
   "cell_type": "code",
   "execution_count": 189,
   "metadata": {},
   "outputs": [
    {
     "data": {
      "image/png": "[encoded data removed]",
      "text/plain": [
       "<Figure size 504x324 with 1 Axes>"
      ]
     },
     "metadata": {
      "needs_background": "light"
     },
     "output_type": "display_data"
    },
    {
     "data": {
      "image/png": "[encoded data removed]",
      "text/plain": [
       "<Figure size 504x324 with 1 Axes>"
      ]
     },
     "metadata": {
      "needs_background": "light"
     },
     "output_type": "display_data"
    },
    {
     "data": {
      "image/png": "[encoded data removed]",
      "text/plain": [
       "<Figure size 504x324 with 1 Axes>"
      ]
     },
     "metadata": {
      "needs_background": "light"
     },
     "output_type": "display_data"
    }
   ],
   "source": [
    "plt.figure(figsize=(7,4.5))\n",
    "plt.plot(range(1,17), [np.mean(average_distance[i]) for i in range(1,17)], linewidth=4, label='Average over 10 neighbors')\n",
    "plt.xlabel('Search radius')\n",
    "plt.ylabel('Cosine distance')\n",
    "plt.legend(loc='best', prop={'size':15})\n",
    "plt.rcParams.update({'font.size':16})\n",
    "plt.tight_layout()\n",
    "\n",
    "plt.figure(figsize=(7,4.5))\n",
    "plt.plot(range(1,17), [np.mean(precision[i]) for i in range(1,17)], linewidth=4, label='Precison@10')\n",
    "plt.xlabel('Search radius')\n",
    "plt.ylabel('Precision')\n",
    "plt.legend(loc='best', prop={'size':15})\n",
    "plt.rcParams.update({'font.size':16})\n",
    "plt.tight_layout()\n",
    "\n",
    "plt.figure(figsize=(7,4.5))\n",
    "plt.plot(range(1,17), [np.mean(query_time[i]) for i in range(1,17)], linewidth=4, label='Query time')\n",
    "plt.xlabel('Search radius')\n",
    "plt.ylabel('Query time (seconds)')\n",
    "plt.legend(loc='best', prop={'size':15})\n",
    "plt.rcParams.update({'font.size':16})\n",
    "plt.tight_layout()"
   ]
  },
  {
   "cell_type": "code",
   "execution_count": 190,
   "metadata": {},
   "outputs": [
    {
     "name": "stdout",
     "output_type": "stream",
     "text": [
      "num_vector = 5\n",
      "num_vector = 6\n",
      "num_vector = 7\n",
      "num_vector = 8\n",
      "num_vector = 9\n",
      "num_vector = 10\n",
      "num_vector = 11\n",
      "num_vector = 12\n",
      "num_vector = 13\n",
      "num_vector = 14\n",
      "num_vector = 15\n",
      "num_vector = 16\n",
      "num_vector = 17\n",
      "num_vector = 18\n",
      "num_vector = 19\n"
     ]
    }
   ],
   "source": [
    "precision = {i:[] for i in range(5,20)}\n",
    "average_distance  = {i:[] for i in range(5,20)}\n",
    "query_time = {i:[] for i in range(5,20)}\n",
    "num_candidates_history = {i:[] for i in range(5,20)}\n",
    "ground_truth = {}\n",
    "\n",
    "np.random.seed(0)\n",
    "num_queries = 10\n",
    "docs = np.random.choice(corpus.shape[0], num_queries, replace=False)\n",
    "\n",
    "for i, ix in enumerate(docs):\n",
    "    ground_truth[ix] = set(brute_force_query(corpus[ix,:], corpus, k=25)['id'])\n",
    "    # Get the set of 25 true nearest neighbors\n",
    "\n",
    "for num_vector in range(5,20):\n",
    "    print('num_vector = %s' % (num_vector))\n",
    "    model = train_lsh(corpus, num_vector, seed=143)\n",
    "    \n",
    "    for i, ix in enumerate(docs):\n",
    "        start = time.time()\n",
    "        result, num_candidates = query(corpus[ix,:], model, k=10, max_search_radius=3)\n",
    "        end = time.time()\n",
    "        \n",
    "        query_time[num_vector].append(end-start)\n",
    "        precision[num_vector].append(len(set(result['id']) & ground_truth[ix])/10.0)\n",
    "        average_distance[num_vector].append(result['distance'][1:].mean())\n",
    "        num_candidates_history[num_vector].append(num_candidates)"
   ]
  },
  {
   "cell_type": "code",
   "execution_count": 191,
   "metadata": {},
   "outputs": [
    {
     "data": {
      "image/png": "[encoded data removed]",
      "text/plain": [
       "<Figure size 504x324 with 1 Axes>"
      ]
     },
     "metadata": {
      "needs_background": "light"
     },
     "output_type": "display_data"
    },
    {
     "data": {
      "image/png": "[encoded data removed]",
      "text/plain": [
       "<Figure size 504x324 with 1 Axes>"
      ]
     },
     "metadata": {
      "needs_background": "light"
     },
     "output_type": "display_data"
    },
    {
     "data": {
      "image/png": "[encoded data removed]",
      "text/plain": [
       "<Figure size 504x324 with 1 Axes>"
      ]
     },
     "metadata": {
      "needs_background": "light"
     },
     "output_type": "display_data"
    },
    {
     "data": {
      "image/png": "[encoded data removed]",
      "text/plain": [
       "<Figure size 504x324 with 1 Axes>"
      ]
     },
     "metadata": {
      "needs_background": "light"
     },
     "output_type": "display_data"
    }
   ],
   "source": [
    "plt.figure(figsize=(7,4.5))\n",
    "plt.plot(range(5,20), [np.mean(average_distance[i]) for i in range(5,20)], linewidth=4, label='Average over 10 neighbors')\n",
    "plt.xlabel('# of random vectors')\n",
    "plt.ylabel('Cosine distance')\n",
    "plt.legend(loc='best', prop={'size':15})\n",
    "plt.rcParams.update({'font.size':16})\n",
    "plt.tight_layout()\n",
    "\n",
    "plt.figure(figsize=(7,4.5))\n",
    "plt.plot(range(5,20), [np.mean(precision[i]) for i in range(5,20)], linewidth=4, label='Precison@10')\n",
    "plt.xlabel('# of random vectors')\n",
    "plt.ylabel('Precision')\n",
    "plt.legend(loc='best', prop={'size':15})\n",
    "plt.rcParams.update({'font.size':16})\n",
    "plt.tight_layout()\n",
    "\n",
    "plt.figure(figsize=(7,4.5))\n",
    "plt.plot(range(5,20), [np.mean(query_time[i]) for i in range(5,20)], linewidth=4, label='Query time (seconds)')\n",
    "plt.xlabel('# of random vectors')\n",
    "plt.ylabel('Query time (seconds)')\n",
    "plt.legend(loc='best', prop={'size':15})\n",
    "plt.rcParams.update({'font.size':16})\n",
    "plt.tight_layout()\n",
    "\n",
    "plt.figure(figsize=(7,4.5))\n",
    "plt.plot(range(5,20), [np.mean(num_candidates_history[i]) for i in range(5,20)], linewidth=4,\n",
    "         label='# of documents searched')\n",
    "plt.xlabel('# of random vectors')\n",
    "plt.ylabel('# of documents searched')\n",
    "plt.legend(loc='best', prop={'size':15})\n",
    "plt.rcParams.update({'font.size':16})\n",
    "plt.tight_layout()"
   ]
  },
  {
   "cell_type": "markdown",
   "metadata": {},
   "source": [
    "We see a similar trade-off between quality and performance: as the number of random vectors increases, the query time goes down as each bin contains fewer documents on average, but on average the neighbors are likewise placed farther from the query. On the other hand, when using a small enough number of random vectors, LSH becomes very similar brute-force search: Many documents appear in a single bin, so searching the query bin alone covers a lot of the corpus; then, including neighboring bins might result in searching all documents, just as in the brute-force approach."
   ]
  },
  {
   "cell_type": "code",
   "execution_count": null,
   "metadata": {},
   "outputs": [],
   "source": []
  }
 ],
 "metadata": {
  "kernelspec": {
   "display_name": "Python 3",
   "language": "python",
   "name": "python3"
  },
  "language_info": {
   "codemirror_mode": {
    "name": "ipython",
    "version": 3
   },
   "file_extension": ".py",
   "mimetype": "text/x-python",
   "name": "python",
   "nbconvert_exporter": "python",
   "pygments_lexer": "ipython3",
   "version": "3.7.6"
  }
 },
 "nbformat": 4,
 "nbformat_minor": 4
}
