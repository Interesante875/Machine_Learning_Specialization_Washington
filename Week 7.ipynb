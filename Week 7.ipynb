{
 "cells": [
  {
   "cell_type": "code",
   "execution_count": 1,
   "metadata": {},
   "outputs": [],
   "source": [
    "import re\n",
    "import string\n",
    "import json\n",
    "import csv\n",
    "import pandas as pd\n",
    "import numpy as np\n",
    "from sklearn.metrics import accuracy_score\n",
    "from sklearn.linear_model import LogisticRegression\n",
    "from sklearn.model_selection import train_test_split\n",
    "import matplotlib.pyplot as plt\n",
    "%matplotlib inline"
   ]
  },
  {
   "cell_type": "code",
   "execution_count": 2,
   "metadata": {},
   "outputs": [],
   "source": [
    "direc = 'Week_7'\n",
    "with open(f'{direc}/important_words.json') as f:\n",
    "    important_words = json.load(f)\n",
    "with open(f'{direc}/amazon_baby_subset.csv') as f:\n",
    "    products = pd.read_csv(f)\n",
    "with open(f'{direc}/module-10-assignment-validation-idx.json') as f:\n",
    "    validation_idx = json.load(f)\n",
    "with open(f'{direc}/module-10-assignment-train-idx.json') as f:\n",
    "    train_idx = json.load(f)"
   ]
  },
  {
   "cell_type": "code",
   "execution_count": 3,
   "metadata": {},
   "outputs": [
    {
     "data": {
      "text/html": [
       "<div>\n",
       "<style scoped>\n",
       "    .dataframe tbody tr th:only-of-type {\n",
       "        vertical-align: middle;\n",
       "    }\n",
       "\n",
       "    .dataframe tbody tr th {\n",
       "        vertical-align: top;\n",
       "    }\n",
       "\n",
       "    .dataframe thead th {\n",
       "        text-align: right;\n",
       "    }\n",
       "</style>\n",
       "<table border=\"1\" class=\"dataframe\">\n",
       "  <thead>\n",
       "    <tr style=\"text-align: right;\">\n",
       "      <th></th>\n",
       "      <th>name</th>\n",
       "      <th>review</th>\n",
       "      <th>rating</th>\n",
       "      <th>sentiment</th>\n",
       "    </tr>\n",
       "  </thead>\n",
       "  <tbody>\n",
       "    <tr>\n",
       "      <th>0</th>\n",
       "      <td>Stop Pacifier Sucking without tears with Thumb...</td>\n",
       "      <td>All of my kids have cried non-stop when I trie...</td>\n",
       "      <td>5</td>\n",
       "      <td>1</td>\n",
       "    </tr>\n",
       "    <tr>\n",
       "      <th>1</th>\n",
       "      <td>Nature's Lullabies Second Year Sticker Calendar</td>\n",
       "      <td>We wanted to get something to keep track of ou...</td>\n",
       "      <td>5</td>\n",
       "      <td>1</td>\n",
       "    </tr>\n",
       "    <tr>\n",
       "      <th>2</th>\n",
       "      <td>Nature's Lullabies Second Year Sticker Calendar</td>\n",
       "      <td>My daughter had her 1st baby over a year ago. ...</td>\n",
       "      <td>5</td>\n",
       "      <td>1</td>\n",
       "    </tr>\n",
       "    <tr>\n",
       "      <th>3</th>\n",
       "      <td>Lamaze Peekaboo, I Love You</td>\n",
       "      <td>One of baby's first and favorite books, and it...</td>\n",
       "      <td>4</td>\n",
       "      <td>1</td>\n",
       "    </tr>\n",
       "    <tr>\n",
       "      <th>4</th>\n",
       "      <td>SoftPlay Peek-A-Boo Where's Elmo A Children's ...</td>\n",
       "      <td>Very cute interactive book! My son loves this ...</td>\n",
       "      <td>5</td>\n",
       "      <td>1</td>\n",
       "    </tr>\n",
       "    <tr>\n",
       "      <th>...</th>\n",
       "      <td>...</td>\n",
       "      <td>...</td>\n",
       "      <td>...</td>\n",
       "      <td>...</td>\n",
       "    </tr>\n",
       "    <tr>\n",
       "      <th>53067</th>\n",
       "      <td>Samsung Baby Care Washer, Stainless Platinum, ...</td>\n",
       "      <td>My infant goes to a really crappy daycare, and...</td>\n",
       "      <td>1</td>\n",
       "      <td>-1</td>\n",
       "    </tr>\n",
       "    <tr>\n",
       "      <th>53068</th>\n",
       "      <td>Mud Pie Milestone Stickers, Boy</td>\n",
       "      <td>Pretty please open and inspect these stickers ...</td>\n",
       "      <td>1</td>\n",
       "      <td>-1</td>\n",
       "    </tr>\n",
       "    <tr>\n",
       "      <th>53069</th>\n",
       "      <td>Best BIB for Baby - Soft Bib (Pink-Elephant)</td>\n",
       "      <td>Great 5-Star Product but An Obvious knock-off ...</td>\n",
       "      <td>1</td>\n",
       "      <td>-1</td>\n",
       "    </tr>\n",
       "    <tr>\n",
       "      <th>53070</th>\n",
       "      <td>Bouncy&amp;reg; Inflatable Real Feel Hopping Cow</td>\n",
       "      <td>When I received the item my initial thought wa...</td>\n",
       "      <td>2</td>\n",
       "      <td>-1</td>\n",
       "    </tr>\n",
       "    <tr>\n",
       "      <th>53071</th>\n",
       "      <td>Maxboost iPhone 5S/5 Case - Protective Snap-on...</td>\n",
       "      <td>I got this case in the mail today, it came on ...</td>\n",
       "      <td>2</td>\n",
       "      <td>-1</td>\n",
       "    </tr>\n",
       "  </tbody>\n",
       "</table>\n",
       "<p>53072 rows × 4 columns</p>\n",
       "</div>"
      ],
      "text/plain": [
       "                                                    name  \\\n",
       "0      Stop Pacifier Sucking without tears with Thumb...   \n",
       "1        Nature's Lullabies Second Year Sticker Calendar   \n",
       "2        Nature's Lullabies Second Year Sticker Calendar   \n",
       "3                            Lamaze Peekaboo, I Love You   \n",
       "4      SoftPlay Peek-A-Boo Where's Elmo A Children's ...   \n",
       "...                                                  ...   \n",
       "53067  Samsung Baby Care Washer, Stainless Platinum, ...   \n",
       "53068                    Mud Pie Milestone Stickers, Boy   \n",
       "53069       Best BIB for Baby - Soft Bib (Pink-Elephant)   \n",
       "53070       Bouncy&reg; Inflatable Real Feel Hopping Cow   \n",
       "53071  Maxboost iPhone 5S/5 Case - Protective Snap-on...   \n",
       "\n",
       "                                                  review  rating  sentiment  \n",
       "0      All of my kids have cried non-stop when I trie...       5          1  \n",
       "1      We wanted to get something to keep track of ou...       5          1  \n",
       "2      My daughter had her 1st baby over a year ago. ...       5          1  \n",
       "3      One of baby's first and favorite books, and it...       4          1  \n",
       "4      Very cute interactive book! My son loves this ...       5          1  \n",
       "...                                                  ...     ...        ...  \n",
       "53067  My infant goes to a really crappy daycare, and...       1         -1  \n",
       "53068  Pretty please open and inspect these stickers ...       1         -1  \n",
       "53069  Great 5-Star Product but An Obvious knock-off ...       1         -1  \n",
       "53070  When I received the item my initial thought wa...       2         -1  \n",
       "53071  I got this case in the mail today, it came on ...       2         -1  \n",
       "\n",
       "[53072 rows x 4 columns]"
      ]
     },
     "execution_count": 3,
     "metadata": {},
     "output_type": "execute_result"
    }
   ],
   "source": [
    "products"
   ]
  },
  {
   "cell_type": "markdown",
   "metadata": {},
   "source": [
    "# Data Cleaning Process"
   ]
  },
  {
   "cell_type": "code",
   "execution_count": 4,
   "metadata": {},
   "outputs": [],
   "source": [
    "def remove_punctuation(text):\n",
    "    trans = str.maketrans('','',string.punctuation)\n",
    "    return text.translate(trans)"
   ]
  },
  {
   "cell_type": "code",
   "execution_count": 5,
   "metadata": {},
   "outputs": [],
   "source": [
    "products = products.fillna({'review':''})\n",
    "products['review_clean'] = products['review'].apply(remove_punctuation)"
   ]
  },
  {
   "cell_type": "code",
   "execution_count": 6,
   "metadata": {},
   "outputs": [],
   "source": [
    "for word in important_words:\n",
    "    products[word] = products['review_clean'].apply(lambda s : s.split().count(word))"
   ]
  },
  {
   "cell_type": "code",
   "execution_count": null,
   "metadata": {},
   "outputs": [],
   "source": [
    "#products['sentiment'] = products['rating'].apply(lambda x: +1 if x > 3 else -1)"
   ]
  },
  {
   "cell_type": "code",
   "execution_count": 7,
   "metadata": {},
   "outputs": [],
   "source": [
    "def get_numpy_data(data, features, target):\n",
    "    data['constant'] = 1.\n",
    "    extracted_data = data[['constant'] + features]\n",
    "    extracted_label = data[target]\n",
    "    converted_data = extracted_data.to_numpy()\n",
    "    converted_label = extracted_label.to_numpy()\n",
    "    return (converted_data, converted_label)"
   ]
  },
  {
   "cell_type": "code",
   "execution_count": 8,
   "metadata": {},
   "outputs": [],
   "source": [
    "train_data = products.iloc[train_idx]\n",
    "validation_data = products.iloc[validation_idx]"
   ]
  },
  {
   "cell_type": "code",
   "execution_count": 9,
   "metadata": {},
   "outputs": [],
   "source": [
    "feature_matrix_train, sentiment_train = get_numpy_data(train_data, important_words, 'sentiment')\n",
    "feature_matrix_valid, sentiment_valid = get_numpy_data(validation_data, important_words, 'sentiment')"
   ]
  },
  {
   "cell_type": "markdown",
   "metadata": {},
   "source": [
    "Quiz Q1:\n",
    "In Module 3 assignment, there were 194 features (an intercept + one feature for each of the 193 important words). In this assignment, we will use stochastic gradient ascent to train the classifier using logistic regression. How does the changing the solver to stochastic gradient ascent affect the number of features?"
   ]
  },
  {
   "cell_type": "markdown",
   "metadata": {},
   "source": [
    "# Logistic Regression from scratch"
   ]
  },
  {
   "cell_type": "code",
   "execution_count": 10,
   "metadata": {},
   "outputs": [],
   "source": [
    "'''\n",
    "produces probablistic estimate for P(y_i = +1 | x_i, w).\n",
    "estimate ranges between 0 and 1.\n",
    "'''\n",
    "def predict_probability(feature_matrix, coefficients):\n",
    "    # Take dot product of feature_matrix and coefficients  \n",
    "    # YOUR CODE HERE\n",
    "    score = np.dot(feature_matrix, coefficients)\n",
    "    \n",
    "    # Compute P(y_i = +1 | x_i, w) using the link function\n",
    "    # YOUR CODE HERE\n",
    "    predictions = 1. / (1. + np.exp(-score))\n",
    "    \n",
    "    # return predictions\n",
    "    return predictions"
   ]
  },
  {
   "cell_type": "code",
   "execution_count": 11,
   "metadata": {},
   "outputs": [],
   "source": [
    "def feature_derivative(errors, feature):     \n",
    "   \n",
    "    # Compute the dot product of errors and feature\n",
    "    derivative = np.dot(errors, feature)\n",
    "        # Return the derivative\n",
    "    \n",
    "    return derivative"
   ]
  },
  {
   "cell_type": "code",
   "execution_count": 22,
   "metadata": {},
   "outputs": [],
   "source": [
    "def compute_avg_log_likelihood(feature_matrix, sentiment, coefficients):\n",
    "    \"\"\"\n",
    "    indicator = (sentiment==+1)\n",
    "    scores = np.dot(feature_matrix, coefficients)\n",
    "    #lp = np.sum(np.subtract(np.array((indicator-1)*scores), np.log(1. + np.exp(-scores))))\n",
    "    \n",
    "    ev = np.multiply((indicator-1.), scores)\n",
    "    nv = np.log(1. + np.exp(-scores))\n",
    "    \n",
    "    lp = np.sum(np.subtract(ev, nv))\n",
    "    \"\"\"\n",
    "    indicator = (sentiment==+1)\n",
    "    scores = np.dot(feature_matrix, coefficients)\n",
    "    logexp = np.log(1. + np.exp(-scores))\n",
    "    \n",
    "    # Simple check to prevent overflow\n",
    "    mask = np.isinf(logexp)\n",
    "    logexp[mask] = -scores[mask] \n",
    "    \n",
    "    indi_score = np.multiply((indicator - 1.), scores)\n",
    "    log_likelihood = np.subtract(indi_score, logexp)\n",
    "    \n",
    "    lp = np.sum(log_likelihood)/len(feature_matrix)   \n",
    "    \n",
    "\n",
    "    return lp"
   ]
  },
  {
   "cell_type": "markdown",
   "metadata": {},
   "source": [
    "Quiz question: Recall from the lecture and the earlier assignment, the log likelihood (without the averaging term) is given by\n",
    "\n",
    "How are the functions \\ell\\ell(\\mathbf{w})ℓℓ(w) and \\ell\\ell_A(\\mathbf{w})ℓℓ A​\t(w) related?"
   ]
  },
  {
   "cell_type": "code",
   "execution_count": 13,
   "metadata": {},
   "outputs": [
    {
     "name": "stdout",
     "output_type": "stream",
     "text": [
      "Gradient single data point: 0.0\n",
      "           --> Should print 0.0\n"
     ]
    }
   ],
   "source": [
    "j = 1                        # Feature number\n",
    "i = 10                       # Data point number\n",
    "coefficients = np.zeros(194) # A point w at which we are computing the gradient.\n",
    "\n",
    "predictions = predict_probability(feature_matrix_train[i:i+1,:], coefficients)\n",
    "indicator = (sentiment_train[i:i+1]==+1)\n",
    "\n",
    "errors = indicator - predictions\n",
    "gradient_single_data_point = feature_derivative(errors, feature_matrix_train[i:i+1,j])\n",
    "print (\"Gradient single data point: %s\" % gradient_single_data_point)\n",
    "print (\"           --> Should print 0.0\")"
   ]
  },
  {
   "cell_type": "markdown",
   "metadata": {},
   "source": [
    "Quiz Question: The code block above computed the derivative\n",
    "\n",
    "The code block above computed the derivative \\partial\\ell_{\\color{red}{i}}(\\mathbf{w})/{\\partial w_j}∂ℓ \n",
    "i​\t(w)/∂w_j​\tfor j = 1 and i = 10.  \n",
    "Is \\partial\\ell_{\\color{red}{i}}(\\mathbf{w})/{\\partial w_j}∂ℓ \n",
    "i​ (w)/∂w_j​\ta scalar or a 194-dimensional vector?"
   ]
  },
  {
   "cell_type": "code",
   "execution_count": 14,
   "metadata": {},
   "outputs": [
    {
     "name": "stdout",
     "output_type": "stream",
     "text": [
      "Gradient mini-batch data points: 1.0\n",
      "                --> Should print 1.0\n"
     ]
    }
   ],
   "source": [
    "j = 1                        # Feature number\n",
    "i = 10                       # Data point start\n",
    "B = 10                       # Mini-batch size\n",
    "coefficients = np.zeros(194) # A point w at which we are computing the gradient.\n",
    "\n",
    "predictions = predict_probability(feature_matrix_train[i:i+B,:], coefficients)\n",
    "indicator = (sentiment_train[i:i+B]==+1)\n",
    "\n",
    "errors = indicator - predictions\n",
    "gradient_mini_batch = feature_derivative(errors, feature_matrix_train[i:i+B,j])\n",
    "print (\"Gradient mini-batch data points: %s\" % gradient_mini_batch)\n",
    "print (\"                --> Should print 1.0\")"
   ]
  },
  {
   "cell_type": "markdown",
   "metadata": {},
   "source": [
    "* Create an empty list called log_likelihood_all\n",
    "* Initialize coefficients to initial_coefficients\n",
    "* Set random seed = 1\n",
    "* Shuffle the data before starting the loop below\n",
    "* Set i = 0, the index of current batch\n",
    "\n",
    "* Run the following steps max_iter times, performing linear scans over the data:\n",
    "  * Predict P(y_i = +1|x_i,w) using your predict_probability() function\n",
    "    Make sure to slice the i-th row of feature_matrix with [i:i+batch_size,:]\n",
    "  * Compute indicator value for (y_i = +1)\n",
    "    Make sure to slice the i-th entry with [i:i+batch_size]\n",
    "  * Compute the errors as (indicator - predictions)\n",
    "  * For each coefficients[j]:\n",
    "    - Compute the derivative for coefficients[j] and save it to derivative.\n",
    "      Make sure to slice the i-th row of feature_matrix with [i:i+batch_size,j]\n",
    "    - Compute the product of the step size, the derivative, and (1./batch_size).\n",
    "    - Increment coefficients[j] by the product just computed.\n",
    "  * Compute the average log likelihood over the current batch.\n",
    "    Add this value to the list log_likelihood_all.\n",
    "  * Increment i by batch_size, indicating the progress made so far on the data.\n",
    "  * Check whether we made a complete pass over data by checking\n",
    "    whether (i+batch_size) exceeds the data size. If so, shuffle the data. If not, do nothing.\n",
    "\n",
    "* Return the final set of coefficients, along with the list log_likelihood_all."
   ]
  },
  {
   "cell_type": "code",
   "execution_count": 20,
   "metadata": {},
   "outputs": [],
   "source": [
    "def logistic_regression_SG(feature_matrix, sentiment, initial_coefficients, step_size, batch_size, max_iter):\n",
    "    log_likelihood_all = []\n",
    "\n",
    "    # make sure it's a numpy array\n",
    "    coefficients = np.array(initial_coefficients)\n",
    "    # set seed=1 to produce consistent results\n",
    "    np.random.seed(seed=1)\n",
    "    \n",
    "    # Shuffle the data before starting\n",
    "    permutation = np.random.permutation(len(feature_matrix))\n",
    "    feature_matrix = feature_matrix[permutation,:]\n",
    "    sentiment = sentiment[permutation]\n",
    "\n",
    "    i = 0 # index of current batch\n",
    "    # Do a linear scan over data\n",
    "    for itr in range(max_iter):\n",
    "        # Predict P(y_i = +1|x_i,w) using your predict_probability() function\n",
    "        # Make sure to slice the i-th row of feature_matrix with [i:i+batch_size,:]\n",
    "        ### YOUR CODE HERE\n",
    "        predictions = predict_probability(feature_matrix[i: i+batch_size, :], coefficients)\n",
    "\n",
    "        # Compute indicator value for (y_i = +1)\n",
    "        # Make sure to slice the i-th entry with [i:i+batch_size]\n",
    "        ### YOUR CODE HERE\n",
    "        indicator = (sentiment[i: i+batch_size] == +1)\n",
    "\n",
    "        # Compute the errors as indicator - predictions\n",
    "        errors = indicator - predictions\n",
    "        \n",
    "        for j in range(len(coefficients)): # loop over each coefficient\n",
    "            # Recall that feature_matrix[:,j] is the feature column associated with coefficients[j]\n",
    "            # Compute the derivative for coefficients[j] and save it to derivative.\n",
    "            # Make sure to slice the i-th row of feature_matrix with [i:i+batch_size,j]\n",
    "            ### YOUR CODE HERE\n",
    "            derivative = feature_derivative(errors, feature_matrix[i: i + batch_size, j])\n",
    "            \n",
    "            # Compute the product of the step size, the derivative, and\n",
    "            # the **normalization constant** (1./batch_size)\n",
    "            ### YOUR CODE HERE\n",
    "            coefficients[j] += step_size * (1./batch_size) * derivative\n",
    "\n",
    "        # Checking whether log likelihood is increasing\n",
    "        # Print the log likelihood over the *current batch*\n",
    "        lp = compute_avg_log_likelihood(feature_matrix[i:i+batch_size,:], sentiment[i:i+batch_size],coefficients)\n",
    "        log_likelihood_all.append(lp)\n",
    "        if itr <= 15 or (itr <= 1000 and itr % 100 == 0) or (itr <= 10000 and itr % 1000 == 0) \\\n",
    "        or itr % 10000 == 0 or itr == max_iter-1:\n",
    "            data_size = len(feature_matrix)\n",
    "            print ('Iteration %*d: Average log likelihood (of data points  [%0*d:%0*d]) = %.8f' % \n",
    "                (int(np.ceil(np.log10(max_iter))), itr, \n",
    "                 int(np.ceil(np.log10(data_size))), i, \n",
    "                 int(np.ceil(np.log10(data_size))), i+batch_size, lp))\n",
    "\n",
    "        # if we made a complete pass over data, shuffle and restart\n",
    "        i += batch_size\n",
    "        if i+batch_size > len(feature_matrix):\n",
    "            permutation = np.random.permutation(len(feature_matrix))\n",
    "            feature_matrix = feature_matrix[permutation,:]\n",
    "            sentiment = sentiment[permutation]\n",
    "            i = 0                \n",
    "\n",
    "    # We return the list of log likelihoods for plotting purposes.\n",
    "    return coefficients, log_likelihood_all"
   ]
  },
  {
   "cell_type": "markdown",
   "metadata": {},
   "source": [
    "For what value of batch size B above is the stochastic gradient ascent function logistic_regression_SG act as a standard gradient ascent algorithm?"
   ]
  },
  {
   "cell_type": "code",
   "execution_count": 26,
   "metadata": {},
   "outputs": [
    {
     "name": "stdout",
     "output_type": "stream",
     "text": [
      "Iteration 0: Average log likelihood (of data points  [0:2]) = -0.33774513\n",
      "Iteration 1: Average log likelihood (of data points  [0:2]) = -0.23455309\n",
      "-------------------------------------------------------------------------------------\n",
      "Coefficients learned                 : [-0.09755757  0.68242552 -0.7799831 ]\n",
      "Average log likelihood per-iteration : [-0.33774513108142956, -0.2345530939410341]\n",
      "-------------------------------------------------------------------------------------\n",
      "Test passed!\n"
     ]
    }
   ],
   "source": [
    "# Checkpoint\n",
    "sample_feature_matrix = np.array([[1.,2.,-1.], [1.,0.,1.]])\n",
    "sample_sentiment = np.array([+1, -1])\n",
    "\n",
    "coefficients, log_likelihood = logistic_regression_SG(sample_feature_matrix, sample_sentiment, np.zeros(3), step_size=1., batch_size=2, max_iter=2)\n",
    "print ('-------------------------------------------------------------------------------------')\n",
    "print ('Coefficients learned                 :', coefficients)\n",
    "print ('Average log likelihood per-iteration :', log_likelihood)\n",
    "if np.allclose(coefficients, np.array([-0.09755757,  0.68242552, -0.7799831]), atol=1e-3)\\\n",
    "  and np.allclose(log_likelihood, np.array([-0.33774513108142956, -0.2345530939410341])):\n",
    "    # pass if elements match within 1e-3\n",
    "    print ('-------------------------------------------------------------------------------------')\n",
    "    print ('Test passed!')\n",
    "else:\n",
    "    print ('-------------------------------------------------------------------------------------')\n",
    "    print ('Test failed')"
   ]
  },
  {
   "cell_type": "code",
   "execution_count": 30,
   "metadata": {},
   "outputs": [],
   "source": [
    "initial_coefficients = np.zeros(194)\n",
    "step_size = 5e-1\n",
    "batch_size = 1\n",
    "max_iter = 10"
   ]
  },
  {
   "cell_type": "code",
   "execution_count": 31,
   "metadata": {},
   "outputs": [
    {
     "name": "stdout",
     "output_type": "stream",
     "text": [
      "Iteration 0: Average log likelihood (of data points  [00000:00001]) = -0.25192908\n",
      "Iteration 1: Average log likelihood (of data points  [00001:00002]) = -0.00000001\n",
      "Iteration 2: Average log likelihood (of data points  [00002:00003]) = -0.12692771\n",
      "Iteration 3: Average log likelihood (of data points  [00003:00004]) = -0.02969101\n",
      "Iteration 4: Average log likelihood (of data points  [00004:00005]) = -0.02668819\n",
      "Iteration 5: Average log likelihood (of data points  [00005:00006]) = -0.04332901\n",
      "Iteration 6: Average log likelihood (of data points  [00006:00007]) = -0.02368802\n",
      "Iteration 7: Average log likelihood (of data points  [00007:00008]) = -0.12686897\n",
      "Iteration 8: Average log likelihood (of data points  [00008:00009]) = -0.04468879\n",
      "Iteration 9: Average log likelihood (of data points  [00009:00010]) = -0.00000124\n"
     ]
    }
   ],
   "source": [
    "coefficients, log_likelihood = logistic_regression_SG(feature_matrix_train, sentiment_train, initial_coefficients, step_size, batch_size, max_iter)"
   ]
  },
  {
   "cell_type": "code",
   "execution_count": 32,
   "metadata": {},
   "outputs": [
    {
     "data": {
      "image/png": "[encoded data removed]",
      "text/plain": [
       "<Figure size 432x288 with 1 Axes>"
      ]
     },
     "metadata": {
      "needs_background": "light"
     },
     "output_type": "display_data"
    }
   ],
   "source": [
    "plt.ylabel(\"Avg log likelyhood\")\n",
    "plt.plot(log_likelihood)\n",
    "plt.xlabel(\"No of Iterations\")\n",
    "plt.show()"
   ]
  },
  {
   "cell_type": "markdown",
   "metadata": {},
   "source": [
    "Quiz Question. When you set batch_size = 1, as each iteration passes, how does the average log likelihood in the batch change?"
   ]
  },
  {
   "cell_type": "code",
   "execution_count": 33,
   "metadata": {},
   "outputs": [],
   "source": [
    "initial_coefficients = np.zeros(194)\n",
    "step_size = 5e-1\n",
    "batch_size = feature_matrix_train.shape[0]\n",
    "max_iter = 200"
   ]
  },
  {
   "cell_type": "code",
   "execution_count": 34,
   "metadata": {},
   "outputs": [
    {
     "name": "stdout",
     "output_type": "stream",
     "text": [
      "Iteration   0: Average log likelihood (of data points  [00000:47780]) = -0.68308119\n",
      "Iteration   1: Average log likelihood (of data points  [00000:47780]) = -0.67394599\n",
      "Iteration   2: Average log likelihood (of data points  [00000:47780]) = -0.66555129\n",
      "Iteration   3: Average log likelihood (of data points  [00000:47780]) = -0.65779626\n",
      "Iteration   4: Average log likelihood (of data points  [00000:47780]) = -0.65060701\n",
      "Iteration   5: Average log likelihood (of data points  [00000:47780]) = -0.64392241\n",
      "Iteration   6: Average log likelihood (of data points  [00000:47780]) = -0.63769009\n",
      "Iteration   7: Average log likelihood (of data points  [00000:47780]) = -0.63186462\n",
      "Iteration   8: Average log likelihood (of data points  [00000:47780]) = -0.62640636\n",
      "Iteration   9: Average log likelihood (of data points  [00000:47780]) = -0.62128063\n",
      "Iteration  10: Average log likelihood (of data points  [00000:47780]) = -0.61645691\n",
      "Iteration  11: Average log likelihood (of data points  [00000:47780]) = -0.61190832\n",
      "Iteration  12: Average log likelihood (of data points  [00000:47780]) = -0.60761103\n",
      "Iteration  13: Average log likelihood (of data points  [00000:47780]) = -0.60354390\n",
      "Iteration  14: Average log likelihood (of data points  [00000:47780]) = -0.59968811\n",
      "Iteration  15: Average log likelihood (of data points  [00000:47780]) = -0.59602682\n",
      "Iteration 100: Average log likelihood (of data points  [00000:47780]) = -0.49520194\n",
      "Iteration 199: Average log likelihood (of data points  [00000:47780]) = -0.47126953\n"
     ]
    }
   ],
   "source": [
    "coefficients, log_likelihood  = logistic_regression_SG(feature_matrix_train, sentiment_train, initial_coefficients, step_size, batch_size, max_iter)"
   ]
  },
  {
   "cell_type": "markdown",
   "metadata": {},
   "source": [
    "Quiz Question. When you set batch_size = len(train_data), as each iteration passes, how does the average log likelihood in the batch change?"
   ]
  },
  {
   "cell_type": "code",
   "execution_count": 36,
   "metadata": {},
   "outputs": [
    {
     "data": {
      "image/png": "[encoded data removed]",
      "text/plain": [
       "<Figure size 432x288 with 1 Axes>"
      ]
     },
     "metadata": {
      "needs_background": "light"
     },
     "output_type": "display_data"
    }
   ],
   "source": [
    "plt.ylabel(\"Avg log likelyhood\")\n",
    "plt.plot(log_likelihood)\n",
    "plt.xlabel(\"No of Iterations\")\n",
    "plt.show()"
   ]
  },
  {
   "cell_type": "markdown",
   "metadata": {},
   "source": [
    "Quiz Question. When you set batch_size = len(train_data), as each iteration passes, how does the average log likelihood in the batch change?"
   ]
  },
  {
   "cell_type": "markdown",
   "metadata": {},
   "source": [
    "Quiz Question Suppose that we run stochastic gradient ascent with a batch size of 100. How many gradient updates are performed at the end of two passes over a dataset consisting of 50000 data points?"
   ]
  },
  {
   "cell_type": "code",
   "execution_count": 37,
   "metadata": {
    "collapsed": true
   },
   "outputs": [
    {
     "name": "stdout",
     "output_type": "stream",
     "text": [
      "Iteration    0: Average log likelihood (of data points  [00000:00100]) = -0.68251093\n",
      "Iteration    1: Average log likelihood (of data points  [00100:00200]) = -0.67845294\n",
      "Iteration    2: Average log likelihood (of data points  [00200:00300]) = -0.68207160\n",
      "Iteration    3: Average log likelihood (of data points  [00300:00400]) = -0.67411325\n",
      "Iteration    4: Average log likelihood (of data points  [00400:00500]) = -0.67804438\n",
      "Iteration    5: Average log likelihood (of data points  [00500:00600]) = -0.67712546\n",
      "Iteration    6: Average log likelihood (of data points  [00600:00700]) = -0.66377074\n",
      "Iteration    7: Average log likelihood (of data points  [00700:00800]) = -0.67321231\n",
      "Iteration    8: Average log likelihood (of data points  [00800:00900]) = -0.66923613\n",
      "Iteration    9: Average log likelihood (of data points  [00900:01000]) = -0.67479446\n",
      "Iteration   10: Average log likelihood (of data points  [01000:01100]) = -0.66501639\n",
      "Iteration   11: Average log likelihood (of data points  [01100:01200]) = -0.65591964\n",
      "Iteration   12: Average log likelihood (of data points  [01200:01300]) = -0.66240398\n",
      "Iteration   13: Average log likelihood (of data points  [01300:01400]) = -0.66440641\n",
      "Iteration   14: Average log likelihood (of data points  [01400:01500]) = -0.65782757\n",
      "Iteration   15: Average log likelihood (of data points  [01500:01600]) = -0.64571479\n",
      "Iteration  100: Average log likelihood (of data points  [10000:10100]) = -0.60976663\n",
      "Iteration  200: Average log likelihood (of data points  [20000:20100]) = -0.54566060\n",
      "Iteration  300: Average log likelihood (of data points  [30000:30100]) = -0.48245740\n",
      "Iteration  400: Average log likelihood (of data points  [40000:40100]) = -0.46629313\n",
      "Iteration  500: Average log likelihood (of data points  [02300:02400]) = -0.47223389\n",
      "Iteration  600: Average log likelihood (of data points  [12300:12400]) = -0.52216798\n",
      "Iteration  700: Average log likelihood (of data points  [22300:22400]) = -0.52336683\n",
      "Iteration  800: Average log likelihood (of data points  [32300:32400]) = -0.46963453\n",
      "Iteration  900: Average log likelihood (of data points  [42300:42400]) = -0.47883783\n",
      "Iteration 1000: Average log likelihood (of data points  [04600:04700]) = -0.46988191\n",
      "Iteration 2000: Average log likelihood (of data points  [09200:09300]) = -0.46365531\n",
      "Iteration 3000: Average log likelihood (of data points  [13800:13900]) = -0.36466901\n",
      "Iteration 4000: Average log likelihood (of data points  [18400:18500]) = -0.51096892\n",
      "Iteration 4769: Average log likelihood (of data points  [47600:47700]) = -0.54670667\n"
     ]
    }
   ],
   "source": [
    "step_size = 1e-1\n",
    "batch_size = 100\n",
    "num_passes = 10\n",
    "num_iterations = num_passes * int(len(feature_matrix_train)/batch_size)\n",
    "\n",
    "coefficients_sgd, log_likelihood_sgd = logistic_regression_SG(feature_matrix_train, sentiment_train,\n",
    "                                       initial_coefficients=np.zeros(194),\n",
    "                                       step_size=1e-1, batch_size=100, max_iter=num_iterations)"
   ]
  },
  {
   "cell_type": "code",
   "execution_count": 38,
   "metadata": {},
   "outputs": [
    {
     "data": {
      "image/png": "[encoded data removed]",
      "text/plain": [
       "<Figure size 648x360 with 1 Axes>"
      ]
     },
     "metadata": {
      "needs_background": "light"
     },
     "output_type": "display_data"
    }
   ],
   "source": [
    "# Log likelihood plots for stochastic gradient ascent\n",
    "import matplotlib.pyplot as plt\n",
    "%matplotlib inline\n",
    "\n",
    "def make_plot(log_likelihood_all, len_data, batch_size, smoothing_window=1, label=''):\n",
    "    plt.rcParams.update({'figure.figsize': (9,5)})\n",
    "    log_likelihood_all_ma = np.convolve(np.array(log_likelihood_all), \\\n",
    "                                        np.ones((smoothing_window,))/smoothing_window, mode='valid')\n",
    "    plt.plot(np.array(range(smoothing_window-1, len(log_likelihood_all)))*float(batch_size)/len_data,\n",
    "             log_likelihood_all_ma, linewidth=4.0, label=label)\n",
    "    plt.rcParams.update({'font.size': 16})\n",
    "    plt.tight_layout()\n",
    "    plt.xlabel('# of passes over data')\n",
    "    plt.ylabel('Average log likelihood per data point')\n",
    "    plt.legend(loc='lower right', prop={'size':14})\n",
    "\n",
    "make_plot(log_likelihood_sgd, len_data=len(feature_matrix_train), batch_size=100, label='stochastic gradient, step_size=1e-1')"
   ]
  },
  {
   "cell_type": "code",
   "execution_count": 39,
   "metadata": {},
   "outputs": [
    {
     "data": {
      "image/png": "[encoded data removed]",
      "text/plain": [
       "<Figure size 648x360 with 1 Axes>"
      ]
     },
     "metadata": {
      "needs_background": "light"
     },
     "output_type": "display_data"
    }
   ],
   "source": [
    "\n",
    "#Smoothing the stochastic gradient ascent curve\n",
    "\n",
    "make_plot(log_likelihood_sgd, len_data=len(feature_matrix_train), batch_size=100,\n",
    "          smoothing_window=30, label='stochastic gradient, step_size=1e-1')"
   ]
  },
  {
   "cell_type": "code",
   "execution_count": null,
   "metadata": {},
   "outputs": [
    {
     "name": "stdout",
     "output_type": "stream",
     "text": [
      "Iteration     0: Average log likelihood (of data points  [00000:00100]) = -0.68251093\n",
      "Iteration     1: Average log likelihood (of data points  [00100:00200]) = -0.67845294\n",
      "Iteration     2: Average log likelihood (of data points  [00200:00300]) = -0.68207160\n",
      "Iteration     3: Average log likelihood (of data points  [00300:00400]) = -0.67411325\n",
      "Iteration     4: Average log likelihood (of data points  [00400:00500]) = -0.67804438\n",
      "Iteration     5: Average log likelihood (of data points  [00500:00600]) = -0.67712546\n",
      "Iteration     6: Average log likelihood (of data points  [00600:00700]) = -0.66377074\n",
      "Iteration     7: Average log likelihood (of data points  [00700:00800]) = -0.67321231\n",
      "Iteration     8: Average log likelihood (of data points  [00800:00900]) = -0.66923613\n",
      "Iteration     9: Average log likelihood (of data points  [00900:01000]) = -0.67479446\n",
      "Iteration    10: Average log likelihood (of data points  [01000:01100]) = -0.66501639\n",
      "Iteration    11: Average log likelihood (of data points  [01100:01200]) = -0.65591964\n",
      "Iteration    12: Average log likelihood (of data points  [01200:01300]) = -0.66240398\n",
      "Iteration    13: Average log likelihood (of data points  [01300:01400]) = -0.66440641\n",
      "Iteration    14: Average log likelihood (of data points  [01400:01500]) = -0.65782757\n",
      "Iteration    15: Average log likelihood (of data points  [01500:01600]) = -0.64571479\n",
      "Iteration   100: Average log likelihood (of data points  [10000:10100]) = -0.60976663\n",
      "Iteration   200: Average log likelihood (of data points  [20000:20100]) = -0.54566060\n",
      "Iteration   300: Average log likelihood (of data points  [30000:30100]) = -0.48245740\n",
      "Iteration   400: Average log likelihood (of data points  [40000:40100]) = -0.46629313\n",
      "Iteration   500: Average log likelihood (of data points  [02300:02400]) = -0.47223389\n",
      "Iteration   600: Average log likelihood (of data points  [12300:12400]) = -0.52216798\n",
      "Iteration   700: Average log likelihood (of data points  [22300:22400]) = -0.52336683\n",
      "Iteration   800: Average log likelihood (of data points  [32300:32400]) = -0.46963453\n",
      "Iteration   900: Average log likelihood (of data points  [42300:42400]) = -0.47883783\n",
      "Iteration  1000: Average log likelihood (of data points  [04600:04700]) = -0.46988191\n",
      "Iteration  2000: Average log likelihood (of data points  [09200:09300]) = -0.46365531\n",
      "Iteration  3000: Average log likelihood (of data points  [13800:13900]) = -0.36466901\n",
      "Iteration  4000: Average log likelihood (of data points  [18400:18500]) = -0.51096892\n",
      "Iteration  5000: Average log likelihood (of data points  [23000:23100]) = -0.43544394\n",
      "Iteration  6000: Average log likelihood (of data points  [27600:27700]) = -0.45656653\n",
      "Iteration  7000: Average log likelihood (of data points  [32200:32300]) = -0.42656766\n",
      "Iteration  8000: Average log likelihood (of data points  [36800:36900]) = -0.39989352\n",
      "Iteration  9000: Average log likelihood (of data points  [41400:41500]) = -0.45267388\n",
      "Iteration 10000: Average log likelihood (of data points  [46000:46100]) = -0.45394262\n",
      "Iteration 20000: Average log likelihood (of data points  [44300:44400]) = -0.48958438\n"
     ]
    }
   ],
   "source": [
    "#Stochastic gradient ascent vs batch gradient ascent\n",
    "step_size = 1e-1\n",
    "batch_size = 100\n",
    "num_passes = 200\n",
    "num_iterations = num_passes * int(len(feature_matrix_train)/batch_size)\n",
    "\n",
    "coefficients_sgd, log_likelihood_sgd = logistic_regression_SG(feature_matrix_train, sentiment_train,\n",
    "                                       initial_coefficients=np.zeros(194),\n",
    "                                       step_size=1e-1, batch_size=100, max_iter=num_iterations)"
   ]
  },
  {
   "cell_type": "code",
   "execution_count": null,
   "metadata": {},
   "outputs": [],
   "source": [
    "coefficients_batch, log_likelihood_batch = logistic_regression_SG(feature_matrix_train, sentiment_train,\\\n",
    "                                        initial_coefficients=np.zeros(194),\\\n",
    "                                        step_size=5e-1, batch_size=len(feature_matrix_train), max_iter=200)"
   ]
  },
  {
   "cell_type": "code",
   "execution_count": null,
   "metadata": {},
   "outputs": [],
   "source": [
    "make_plot(log_likelihood_sgd, len_data=len(feature_matrix_train), batch_size=100,\n",
    "          smoothing_window=30, label='stochastic, step_size=1e-1')\n",
    "make_plot(log_likelihood_batch, len_data=len(feature_matrix_train), batch_size=len(feature_matrix_train),\n",
    "          smoothing_window=1, label='batch, step_size=5e-1')"
   ]
  },
  {
   "cell_type": "code",
   "execution_count": null,
   "metadata": {},
   "outputs": [],
   "source": [
    "\n",
    "#Explore the effects of step sizes on stochastic gradient ascent\n",
    "batch_size = 100\n",
    "num_passes = 10\n",
    "num_iterations = num_passes * int(len(feature_matrix_train)/batch_size)\n",
    "\n",
    "coefficients_sgd = {}\n",
    "log_likelihood_sgd = {}\n",
    "for step_size in np.logspace(-4, 2, num=7):\n",
    "    coefficients_sgd[step_size], log_likelihood_sgd[step_size] = logistic_regression_SG(feature_matrix_train, sentiment_train,\\\n",
    "                                       initial_coefficients=np.zeros(194),\\\n",
    "                                       step_size=step_size, batch_size=batch_size, max_iter=num_iterations)"
   ]
  },
  {
   "cell_type": "code",
   "execution_count": null,
   "metadata": {},
   "outputs": [],
   "source": [
    "for step_size in np.logspace(-4, 2, num=7):\n",
    "    make_plot(log_likelihood_sgd[step_size], len_data=len(train_data), batch_size=100,\n",
    "              smoothing_window=30, label='step_size=%.1e'%step_size)"
   ]
  },
  {
   "cell_type": "code",
   "execution_count": null,
   "metadata": {},
   "outputs": [],
   "source": [
    "\n",
    "for step_size in np.logspace(-4, 2, num=7)[0:6]:\n",
    "    make_plot(log_likelihood_sgd[step_size], len_data=len(train_data), batch_size=100,\n",
    "              smoothing_window=30, label='step_size=%.1e'%step_size)"
   ]
  },
  {
   "cell_type": "code",
   "execution_count": null,
   "metadata": {},
   "outputs": [],
   "source": []
  }
 ],
 "metadata": {
  "kernelspec": {
   "display_name": "Python 3",
   "language": "python",
   "name": "python3"
  },
  "language_info": {
   "codemirror_mode": {
    "name": "ipython",
    "version": 3
   },
   "file_extension": ".py",
   "mimetype": "text/x-python",
   "name": "python",
   "nbconvert_exporter": "python",
   "pygments_lexer": "ipython3",
   "version": "3.7.6"
  }
 },
 "nbformat": 4,
 "nbformat_minor": 4
}
