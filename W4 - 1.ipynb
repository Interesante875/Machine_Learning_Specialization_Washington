{
 "cells": [
  {
   "cell_type": "code",
   "execution_count": 1,
   "metadata": {},
   "outputs": [],
   "source": [
    "import numpy as np\n",
    "import turicreate as tc\n",
    "import pandas as pd\n",
    "import matplotlib.pyplot as plt\n",
    "%matplotlib inline\n",
    "import math\n",
    "from sklearn import linear_model"
   ]
  },
  {
   "cell_type": "code",
   "execution_count": 2,
   "metadata": {},
   "outputs": [],
   "source": [
    "dtype_dict = {'bathrooms':float, 'waterfront':int, 'sqft_above':int, 'sqft_living15':float, 'grade':int, 'yr_renovated':int, 'price':float, 'bedrooms':float, 'zipcode':str, 'long':float, 'sqft_lot15':float, 'sqft_living':float, 'floors':float, 'condition':int, 'lat':float, 'date':str, 'sqft_basement':int, 'yr_built':int, 'id':str, 'sqft_lot':int, 'view':int}\n",
    "\n",
    "house_data = pd.read_csv('kc_house_data.csv', dtype=dtype_dict)\n",
    "sf = tc.SFrame('m_1ce96d9d245ca490.frame_idx')\n",
    "sf_sort = sf.sort(['sqft_living', 'price'])"
   ]
  },
  {
   "cell_type": "code",
   "execution_count": 3,
   "metadata": {},
   "outputs": [],
   "source": [
    "l2_small_penalty = 1.5e-5"
   ]
  },
  {
   "cell_type": "code",
   "execution_count": 4,
   "metadata": {},
   "outputs": [],
   "source": [
    "def polynomial_sframe(feature, degree):\n",
    "    # assume that degree >= 1\n",
    "    assert degree >= 1\n",
    "    # initialize the SFrame:\n",
    "    poly_sframe = tc.SFrame()\n",
    "    # and set poly_sframe['power_1'] equal to the passed feature\n",
    "    poly_sframe['power_1'] = feature\n",
    "    # first check if degree > 1\n",
    "    features_name = ['power_1']\n",
    "    if degree > 1:\n",
    "        # then loop over the remaining degrees:\n",
    "        for power in range(2, degree+1):\n",
    "            # first we'll give the column a name:\n",
    "            name = 'power_' + str(power)\n",
    "            # assign poly_sframe[name] to be feature^power\n",
    "            poly_sframe[name] = np.power(feature, power)\n",
    "            features_name.append(name)\n",
    "    return poly_sframe, features_name"
   ]
  },
  {
   "cell_type": "code",
   "execution_count": null,
   "metadata": {},
   "outputs": [],
   "source": []
  },
  {
   "cell_type": "code",
   "execution_count": 23,
   "metadata": {},
   "outputs": [
    {
     "data": {
      "text/html": [
       "<pre>Linear regression:</pre>"
      ],
      "text/plain": [
       "Linear regression:"
      ]
     },
     "metadata": {},
     "output_type": "display_data"
    },
    {
     "data": {
      "text/html": [
       "<pre>--------------------------------------------------------</pre>"
      ],
      "text/plain": [
       "--------------------------------------------------------"
      ]
     },
     "metadata": {},
     "output_type": "display_data"
    },
    {
     "data": {
      "text/html": [
       "<pre>Number of examples          : 21613</pre>"
      ],
      "text/plain": [
       "Number of examples          : 21613"
      ]
     },
     "metadata": {},
     "output_type": "display_data"
    },
    {
     "data": {
      "text/html": [
       "<pre>Number of features          : 15</pre>"
      ],
      "text/plain": [
       "Number of features          : 15"
      ]
     },
     "metadata": {},
     "output_type": "display_data"
    },
    {
     "data": {
      "text/html": [
       "<pre>Number of unpacked features : 15</pre>"
      ],
      "text/plain": [
       "Number of unpacked features : 15"
      ]
     },
     "metadata": {},
     "output_type": "display_data"
    },
    {
     "data": {
      "text/html": [
       "<pre>Number of coefficients    : 16</pre>"
      ],
      "text/plain": [
       "Number of coefficients    : 16"
      ]
     },
     "metadata": {},
     "output_type": "display_data"
    },
    {
     "data": {
      "text/html": [
       "<pre>Starting Newton Method</pre>"
      ],
      "text/plain": [
       "Starting Newton Method"
      ]
     },
     "metadata": {},
     "output_type": "display_data"
    },
    {
     "data": {
      "text/html": [
       "<pre>--------------------------------------------------------</pre>"
      ],
      "text/plain": [
       "--------------------------------------------------------"
      ]
     },
     "metadata": {},
     "output_type": "display_data"
    },
    {
     "data": {
      "text/html": [
       "<pre>+-----------+----------+--------------+--------------------+---------------------------------+</pre>"
      ],
      "text/plain": [
       "+-----------+----------+--------------+--------------------+---------------------------------+"
      ]
     },
     "metadata": {},
     "output_type": "display_data"
    },
    {
     "data": {
      "text/html": [
       "<pre>| Iteration | Passes   | Elapsed Time | Training Max Error | Training Root-Mean-Square Error |</pre>"
      ],
      "text/plain": [
       "| Iteration | Passes   | Elapsed Time | Training Max Error | Training Root-Mean-Square Error |"
      ]
     },
     "metadata": {},
     "output_type": "display_data"
    },
    {
     "data": {
      "text/html": [
       "<pre>+-----------+----------+--------------+--------------------+---------------------------------+</pre>"
      ],
      "text/plain": [
       "+-----------+----------+--------------+--------------------+---------------------------------+"
      ]
     },
     "metadata": {},
     "output_type": "display_data"
    },
    {
     "data": {
      "text/html": [
       "<pre>| 1         | 2        | 0.293365     | 2664005.630714     | 245658.000526                   |</pre>"
      ],
      "text/plain": [
       "| 1         | 2        | 0.293365     | 2664005.630714     | 245658.000526                   |"
      ]
     },
     "metadata": {},
     "output_type": "display_data"
    },
    {
     "data": {
      "text/html": [
       "<pre>+-----------+----------+--------------+--------------------+---------------------------------+</pre>"
      ],
      "text/plain": [
       "+-----------+----------+--------------+--------------------+---------------------------------+"
      ]
     },
     "metadata": {},
     "output_type": "display_data"
    },
    {
     "data": {
      "text/html": [
       "<pre>SUCCESS: Optimal solution found.</pre>"
      ],
      "text/plain": [
       "SUCCESS: Optimal solution found."
      ]
     },
     "metadata": {},
     "output_type": "display_data"
    },
    {
     "data": {
      "text/html": [
       "<pre></pre>"
      ],
      "text/plain": []
     },
     "metadata": {},
     "output_type": "display_data"
    },
    {
     "data": {
      "text/plain": [
       "\"model.fit(poly15_data, sf_sort['price'])\""
      ]
     },
     "execution_count": 23,
     "metadata": {},
     "output_type": "execute_result"
    }
   ],
   "source": [
    "poly15_data, my_features = polynomial_sframe(sf_sort['sqft_living'], 15) # use equivalent of `polynomial_sframe`\n",
    "poly15_data['price'] = sf_sort['price']\n",
    "\n",
    "\n",
    "model_pd = linear_model.Ridge(alpha=l2_small_penalty, normalize=True)\n",
    "model = tc.linear_regression.create(poly15_data, target = 'price', features = my_features, verbose=True, l2_penalty = l2_small_penalty, validation_set=None)\n",
    "\"\"\"model.fit(poly15_data, sf_sort['price'])\"\"\""
   ]
  },
  {
   "cell_type": "code",
   "execution_count": 30,
   "metadata": {},
   "outputs": [],
   "source": [
    "house_data = house_data.sort_values(['sqft_living'])"
   ]
  },
  {
   "cell_type": "code",
   "execution_count": 31,
   "metadata": {},
   "outputs": [
    {
     "data": {
      "text/html": [
       "<div>\n",
       "<style scoped>\n",
       "    .dataframe tbody tr th:only-of-type {\n",
       "        vertical-align: middle;\n",
       "    }\n",
       "\n",
       "    .dataframe tbody tr th {\n",
       "        vertical-align: top;\n",
       "    }\n",
       "\n",
       "    .dataframe thead th {\n",
       "        text-align: right;\n",
       "    }\n",
       "</style>\n",
       "<table border=\"1\" class=\"dataframe\">\n",
       "  <thead>\n",
       "    <tr style=\"text-align: right;\">\n",
       "      <th></th>\n",
       "      <th>id</th>\n",
       "      <th>date</th>\n",
       "      <th>price</th>\n",
       "      <th>bedrooms</th>\n",
       "      <th>bathrooms</th>\n",
       "      <th>sqft_living</th>\n",
       "      <th>sqft_lot</th>\n",
       "      <th>floors</th>\n",
       "      <th>waterfront</th>\n",
       "      <th>view</th>\n",
       "      <th>...</th>\n",
       "      <th>grade</th>\n",
       "      <th>sqft_above</th>\n",
       "      <th>sqft_basement</th>\n",
       "      <th>yr_built</th>\n",
       "      <th>yr_renovated</th>\n",
       "      <th>zipcode</th>\n",
       "      <th>lat</th>\n",
       "      <th>long</th>\n",
       "      <th>sqft_living15</th>\n",
       "      <th>sqft_lot15</th>\n",
       "    </tr>\n",
       "  </thead>\n",
       "  <tbody>\n",
       "    <tr>\n",
       "      <th>19452</th>\n",
       "      <td>3980300371</td>\n",
       "      <td>20140926T000000</td>\n",
       "      <td>142000.0</td>\n",
       "      <td>0.0</td>\n",
       "      <td>0.00</td>\n",
       "      <td>290.0</td>\n",
       "      <td>20875</td>\n",
       "      <td>1.0</td>\n",
       "      <td>0</td>\n",
       "      <td>0</td>\n",
       "      <td>...</td>\n",
       "      <td>1</td>\n",
       "      <td>290</td>\n",
       "      <td>0</td>\n",
       "      <td>1963</td>\n",
       "      <td>0</td>\n",
       "      <td>98024</td>\n",
       "      <td>47.5308</td>\n",
       "      <td>-121.888</td>\n",
       "      <td>1620.0</td>\n",
       "      <td>22850.0</td>\n",
       "    </tr>\n",
       "    <tr>\n",
       "      <th>15381</th>\n",
       "      <td>2856101479</td>\n",
       "      <td>20140701T000000</td>\n",
       "      <td>276000.0</td>\n",
       "      <td>1.0</td>\n",
       "      <td>0.75</td>\n",
       "      <td>370.0</td>\n",
       "      <td>1801</td>\n",
       "      <td>1.0</td>\n",
       "      <td>0</td>\n",
       "      <td>0</td>\n",
       "      <td>...</td>\n",
       "      <td>5</td>\n",
       "      <td>370</td>\n",
       "      <td>0</td>\n",
       "      <td>1923</td>\n",
       "      <td>0</td>\n",
       "      <td>98117</td>\n",
       "      <td>47.6778</td>\n",
       "      <td>-122.389</td>\n",
       "      <td>1340.0</td>\n",
       "      <td>5000.0</td>\n",
       "    </tr>\n",
       "    <tr>\n",
       "      <th>860</th>\n",
       "      <td>1723049033</td>\n",
       "      <td>20140620T000000</td>\n",
       "      <td>245000.0</td>\n",
       "      <td>1.0</td>\n",
       "      <td>0.75</td>\n",
       "      <td>380.0</td>\n",
       "      <td>15000</td>\n",
       "      <td>1.0</td>\n",
       "      <td>0</td>\n",
       "      <td>0</td>\n",
       "      <td>...</td>\n",
       "      <td>5</td>\n",
       "      <td>380</td>\n",
       "      <td>0</td>\n",
       "      <td>1963</td>\n",
       "      <td>0</td>\n",
       "      <td>98168</td>\n",
       "      <td>47.4810</td>\n",
       "      <td>-122.323</td>\n",
       "      <td>1170.0</td>\n",
       "      <td>15000.0</td>\n",
       "    </tr>\n",
       "    <tr>\n",
       "      <th>18379</th>\n",
       "      <td>1222029077</td>\n",
       "      <td>20141029T000000</td>\n",
       "      <td>265000.0</td>\n",
       "      <td>0.0</td>\n",
       "      <td>0.75</td>\n",
       "      <td>384.0</td>\n",
       "      <td>213444</td>\n",
       "      <td>1.0</td>\n",
       "      <td>0</td>\n",
       "      <td>0</td>\n",
       "      <td>...</td>\n",
       "      <td>4</td>\n",
       "      <td>384</td>\n",
       "      <td>0</td>\n",
       "      <td>2003</td>\n",
       "      <td>0</td>\n",
       "      <td>98070</td>\n",
       "      <td>47.4177</td>\n",
       "      <td>-122.491</td>\n",
       "      <td>1920.0</td>\n",
       "      <td>224341.0</td>\n",
       "    </tr>\n",
       "    <tr>\n",
       "      <th>4868</th>\n",
       "      <td>6896300380</td>\n",
       "      <td>20141002T000000</td>\n",
       "      <td>228000.0</td>\n",
       "      <td>0.0</td>\n",
       "      <td>1.00</td>\n",
       "      <td>390.0</td>\n",
       "      <td>5900</td>\n",
       "      <td>1.0</td>\n",
       "      <td>0</td>\n",
       "      <td>0</td>\n",
       "      <td>...</td>\n",
       "      <td>4</td>\n",
       "      <td>390</td>\n",
       "      <td>0</td>\n",
       "      <td>1953</td>\n",
       "      <td>0</td>\n",
       "      <td>98118</td>\n",
       "      <td>47.5260</td>\n",
       "      <td>-122.261</td>\n",
       "      <td>2170.0</td>\n",
       "      <td>6000.0</td>\n",
       "    </tr>\n",
       "    <tr>\n",
       "      <th>...</th>\n",
       "      <td>...</td>\n",
       "      <td>...</td>\n",
       "      <td>...</td>\n",
       "      <td>...</td>\n",
       "      <td>...</td>\n",
       "      <td>...</td>\n",
       "      <td>...</td>\n",
       "      <td>...</td>\n",
       "      <td>...</td>\n",
       "      <td>...</td>\n",
       "      <td>...</td>\n",
       "      <td>...</td>\n",
       "      <td>...</td>\n",
       "      <td>...</td>\n",
       "      <td>...</td>\n",
       "      <td>...</td>\n",
       "      <td>...</td>\n",
       "      <td>...</td>\n",
       "      <td>...</td>\n",
       "      <td>...</td>\n",
       "      <td>...</td>\n",
       "    </tr>\n",
       "    <tr>\n",
       "      <th>8092</th>\n",
       "      <td>1924059029</td>\n",
       "      <td>20140617T000000</td>\n",
       "      <td>4668000.0</td>\n",
       "      <td>5.0</td>\n",
       "      <td>6.75</td>\n",
       "      <td>9640.0</td>\n",
       "      <td>13068</td>\n",
       "      <td>1.0</td>\n",
       "      <td>1</td>\n",
       "      <td>4</td>\n",
       "      <td>...</td>\n",
       "      <td>12</td>\n",
       "      <td>4820</td>\n",
       "      <td>4820</td>\n",
       "      <td>1983</td>\n",
       "      <td>2009</td>\n",
       "      <td>98040</td>\n",
       "      <td>47.5570</td>\n",
       "      <td>-122.210</td>\n",
       "      <td>3270.0</td>\n",
       "      <td>10454.0</td>\n",
       "    </tr>\n",
       "    <tr>\n",
       "      <th>9254</th>\n",
       "      <td>9208900037</td>\n",
       "      <td>20140919T000000</td>\n",
       "      <td>6885000.0</td>\n",
       "      <td>6.0</td>\n",
       "      <td>7.75</td>\n",
       "      <td>9890.0</td>\n",
       "      <td>31374</td>\n",
       "      <td>2.0</td>\n",
       "      <td>0</td>\n",
       "      <td>4</td>\n",
       "      <td>...</td>\n",
       "      <td>13</td>\n",
       "      <td>8860</td>\n",
       "      <td>1030</td>\n",
       "      <td>2001</td>\n",
       "      <td>0</td>\n",
       "      <td>98039</td>\n",
       "      <td>47.6305</td>\n",
       "      <td>-122.240</td>\n",
       "      <td>4540.0</td>\n",
       "      <td>42730.0</td>\n",
       "    </tr>\n",
       "    <tr>\n",
       "      <th>3914</th>\n",
       "      <td>9808700762</td>\n",
       "      <td>20140611T000000</td>\n",
       "      <td>7062500.0</td>\n",
       "      <td>5.0</td>\n",
       "      <td>4.50</td>\n",
       "      <td>10040.0</td>\n",
       "      <td>37325</td>\n",
       "      <td>2.0</td>\n",
       "      <td>1</td>\n",
       "      <td>2</td>\n",
       "      <td>...</td>\n",
       "      <td>11</td>\n",
       "      <td>7680</td>\n",
       "      <td>2360</td>\n",
       "      <td>1940</td>\n",
       "      <td>2001</td>\n",
       "      <td>98004</td>\n",
       "      <td>47.6500</td>\n",
       "      <td>-122.214</td>\n",
       "      <td>3930.0</td>\n",
       "      <td>25449.0</td>\n",
       "    </tr>\n",
       "    <tr>\n",
       "      <th>7252</th>\n",
       "      <td>6762700020</td>\n",
       "      <td>20141013T000000</td>\n",
       "      <td>7700000.0</td>\n",
       "      <td>6.0</td>\n",
       "      <td>8.00</td>\n",
       "      <td>12050.0</td>\n",
       "      <td>27600</td>\n",
       "      <td>2.5</td>\n",
       "      <td>0</td>\n",
       "      <td>3</td>\n",
       "      <td>...</td>\n",
       "      <td>13</td>\n",
       "      <td>8570</td>\n",
       "      <td>3480</td>\n",
       "      <td>1910</td>\n",
       "      <td>1987</td>\n",
       "      <td>98102</td>\n",
       "      <td>47.6298</td>\n",
       "      <td>-122.323</td>\n",
       "      <td>3940.0</td>\n",
       "      <td>8800.0</td>\n",
       "    </tr>\n",
       "    <tr>\n",
       "      <th>12777</th>\n",
       "      <td>1225069038</td>\n",
       "      <td>20140505T000000</td>\n",
       "      <td>2280000.0</td>\n",
       "      <td>7.0</td>\n",
       "      <td>8.00</td>\n",
       "      <td>13540.0</td>\n",
       "      <td>307752</td>\n",
       "      <td>3.0</td>\n",
       "      <td>0</td>\n",
       "      <td>4</td>\n",
       "      <td>...</td>\n",
       "      <td>12</td>\n",
       "      <td>9410</td>\n",
       "      <td>4130</td>\n",
       "      <td>1999</td>\n",
       "      <td>0</td>\n",
       "      <td>98053</td>\n",
       "      <td>47.6675</td>\n",
       "      <td>-121.986</td>\n",
       "      <td>4850.0</td>\n",
       "      <td>217800.0</td>\n",
       "    </tr>\n",
       "  </tbody>\n",
       "</table>\n",
       "<p>21613 rows × 21 columns</p>\n",
       "</div>"
      ],
      "text/plain": [
       "               id             date      price  bedrooms  bathrooms  \\\n",
       "19452  3980300371  20140926T000000   142000.0       0.0       0.00   \n",
       "15381  2856101479  20140701T000000   276000.0       1.0       0.75   \n",
       "860    1723049033  20140620T000000   245000.0       1.0       0.75   \n",
       "18379  1222029077  20141029T000000   265000.0       0.0       0.75   \n",
       "4868   6896300380  20141002T000000   228000.0       0.0       1.00   \n",
       "...           ...              ...        ...       ...        ...   \n",
       "8092   1924059029  20140617T000000  4668000.0       5.0       6.75   \n",
       "9254   9208900037  20140919T000000  6885000.0       6.0       7.75   \n",
       "3914   9808700762  20140611T000000  7062500.0       5.0       4.50   \n",
       "7252   6762700020  20141013T000000  7700000.0       6.0       8.00   \n",
       "12777  1225069038  20140505T000000  2280000.0       7.0       8.00   \n",
       "\n",
       "       sqft_living  sqft_lot  floors  waterfront  view  ...  grade  \\\n",
       "19452        290.0     20875     1.0           0     0  ...      1   \n",
       "15381        370.0      1801     1.0           0     0  ...      5   \n",
       "860          380.0     15000     1.0           0     0  ...      5   \n",
       "18379        384.0    213444     1.0           0     0  ...      4   \n",
       "4868         390.0      5900     1.0           0     0  ...      4   \n",
       "...            ...       ...     ...         ...   ...  ...    ...   \n",
       "8092        9640.0     13068     1.0           1     4  ...     12   \n",
       "9254        9890.0     31374     2.0           0     4  ...     13   \n",
       "3914       10040.0     37325     2.0           1     2  ...     11   \n",
       "7252       12050.0     27600     2.5           0     3  ...     13   \n",
       "12777      13540.0    307752     3.0           0     4  ...     12   \n",
       "\n",
       "       sqft_above  sqft_basement  yr_built  yr_renovated  zipcode      lat  \\\n",
       "19452         290              0      1963             0    98024  47.5308   \n",
       "15381         370              0      1923             0    98117  47.6778   \n",
       "860           380              0      1963             0    98168  47.4810   \n",
       "18379         384              0      2003             0    98070  47.4177   \n",
       "4868          390              0      1953             0    98118  47.5260   \n",
       "...           ...            ...       ...           ...      ...      ...   \n",
       "8092         4820           4820      1983          2009    98040  47.5570   \n",
       "9254         8860           1030      2001             0    98039  47.6305   \n",
       "3914         7680           2360      1940          2001    98004  47.6500   \n",
       "7252         8570           3480      1910          1987    98102  47.6298   \n",
       "12777        9410           4130      1999             0    98053  47.6675   \n",
       "\n",
       "          long  sqft_living15  sqft_lot15  \n",
       "19452 -121.888         1620.0     22850.0  \n",
       "15381 -122.389         1340.0      5000.0  \n",
       "860   -122.323         1170.0     15000.0  \n",
       "18379 -122.491         1920.0    224341.0  \n",
       "4868  -122.261         2170.0      6000.0  \n",
       "...        ...            ...         ...  \n",
       "8092  -122.210         3270.0     10454.0  \n",
       "9254  -122.240         4540.0     42730.0  \n",
       "3914  -122.214         3930.0     25449.0  \n",
       "7252  -122.323         3940.0      8800.0  \n",
       "12777 -121.986         4850.0    217800.0  \n",
       "\n",
       "[21613 rows x 21 columns]"
      ]
     },
     "execution_count": 31,
     "metadata": {},
     "output_type": "execute_result"
    }
   ],
   "source": [
    "house_data"
   ]
  },
  {
   "cell_type": "code",
   "execution_count": 32,
   "metadata": {},
   "outputs": [],
   "source": [
    "\n",
    "house_data_15, _ = polynomial_pd(house_data['sqft_living'], 15)\n",
    "house_data_price = house_data['price']"
   ]
  },
  {
   "cell_type": "code",
   "execution_count": null,
   "metadata": {},
   "outputs": [],
   "source": [
    "house_data_15"
   ]
  },
  {
   "cell_type": "code",
   "execution_count": 33,
   "metadata": {},
   "outputs": [
    {
     "data": {
      "text/plain": [
       "Ridge(alpha=1.5e-05, copy_X=True, fit_intercept=True, max_iter=None,\n",
       "      normalize=True, random_state=None, solver='auto', tol=0.001)"
      ]
     },
     "execution_count": 33,
     "metadata": {},
     "output_type": "execute_result"
    }
   ],
   "source": [
    "model_pd.fit(house_data_15, house_data_price)"
   ]
  },
  {
   "cell_type": "code",
   "execution_count": 34,
   "metadata": {},
   "outputs": [
    {
     "name": "stdout",
     "output_type": "stream",
     "text": [
      "[ 1.24873306e+02 -4.77376011e-02  3.01446238e-05 -2.44419942e-09\n",
      " -1.94153675e-13  8.54085686e-18  1.51142121e-21  8.27979094e-26\n",
      "  6.52603100e-31 -3.27895017e-34 -3.87962315e-38 -2.72437650e-42\n",
      " -1.07790800e-46  3.78242694e-51  1.39790296e-54]\n",
      "+-------------+-------+-------------------------+--------+\n",
      "|     name    | index |          value          | stderr |\n",
      "+-------------+-------+-------------------------+--------+\n",
      "| (intercept) |  None |    156896.98133571132   |  nan   |\n",
      "|   power_1   |  None |    137.41238230525002   |  nan   |\n",
      "|   power_2   |  None |   0.09434556534476389   |  nan   |\n",
      "|   power_3   |  None | -0.00010600647237643056 |  nan   |\n",
      "|   power_4   |  None |  4.504952596646743e-08  |  nan   |\n",
      "|   power_5   |  None | -6.8127727296296215e-12 |  nan   |\n",
      "|   power_6   |  None |  1.4634062137839945e-16 |  nan   |\n",
      "|   power_7   |  None |  3.8054508415461626e-20 |  nan   |\n",
      "|   power_8   |  None | -2.1542846446346125e-25 |  nan   |\n",
      "|   power_9   |  None | -1.8479510818346008e-28 |  nan   |\n",
      "|   power_10  |  None |  -7.197326226065688e-33 |  nan   |\n",
      "|   power_11  |  None |  4.382614051621966e-37  |  nan   |\n",
      "|   power_12  |  None |  5.324062146808705e-41  |  nan   |\n",
      "|   power_13  |  None |  5.712993259601471e-46  |  nan   |\n",
      "|   power_14  |  None |  -2.248410328785244e-49 |  nan   |\n",
      "|   power_15  |  None |   3.57716758621729e-54  |  nan   |\n",
      "+-------------+-------+-------------------------+--------+\n",
      "[16 rows x 4 columns]\n",
      "\n",
      "None\n"
     ]
    }
   ],
   "source": [
    "print(model_pd.coef_)\n",
    "print(model.coefficients.print_rows(num_rows = 16))"
   ]
  },
  {
   "cell_type": "code",
   "execution_count": null,
   "metadata": {},
   "outputs": [],
   "source": []
  },
  {
   "cell_type": "code",
   "execution_count": 15,
   "metadata": {},
   "outputs": [],
   "source": [
    "set_1 = pd.read_csv('wk3_kc_house_set_1_data.csv', dtype=dtype_dict)\n",
    "set_2 = pd.read_csv('wk3_kc_house_set_2_data.csv', dtype=dtype_dict)\n",
    "set_3 = pd.read_csv('wk3_kc_house_set_3_data.csv', dtype=dtype_dict)\n",
    "set_4 = pd.read_csv('wk3_kc_house_set_4_data.csv', dtype=dtype_dict)"
   ]
  },
  {
   "cell_type": "code",
   "execution_count": 16,
   "metadata": {},
   "outputs": [],
   "source": [
    "l2_small_penalty2=1e-9"
   ]
  },
  {
   "cell_type": "code",
   "execution_count": 17,
   "metadata": {},
   "outputs": [],
   "source": [
    "model_pd2 = linear_model.Ridge(alpha=l2_small_penalty2, normalize=True)"
   ]
  },
  {
   "cell_type": "code",
   "execution_count": 18,
   "metadata": {},
   "outputs": [],
   "source": [
    "set_1_data = set_1[['sqft_living', 'price']]\n",
    "set_2_data = set_2[['sqft_living', 'price']]\n",
    "set_3_data = set_3[['sqft_living', 'price']]\n",
    "set_4_data = set_4[['sqft_living', 'price']]"
   ]
  },
  {
   "cell_type": "code",
   "execution_count": null,
   "metadata": {},
   "outputs": [],
   "source": []
  },
  {
   "cell_type": "code",
   "execution_count": 5,
   "metadata": {},
   "outputs": [],
   "source": [
    "def polynomial_pd(feature, degree):\n",
    "    # assume that degree >= 1\n",
    "    assert degree >= 1\n",
    "    # initialize the SFrame:\n",
    "    poly_dataframe = pd.DataFrame({\"power_1\":feature})\n",
    "    # and set poly_sframe['power_1'] equal to the passed feature\n",
    "    # first check if degree > 1\n",
    "    features_name = ['power_1']\n",
    "    if degree > 1:\n",
    "        # then loop over the remaining degrees:\n",
    "        for power in range(2, degree+1):\n",
    "            # first we'll give the column a name:\n",
    "            name = 'power_' + str(power)\n",
    "            # assign poly_sframe[name] to be feature^power\n",
    "            poly_dataframe[name] = np.power(feature, power)\n",
    "            features_name.append(name)\n",
    "    return poly_dataframe, features_name"
   ]
  },
  {
   "cell_type": "code",
   "execution_count": 19,
   "metadata": {},
   "outputs": [],
   "source": [
    "set_1_X, my_features = polynomial_pd(set_1_data['sqft_living'], 15)\n",
    "set_2_X, _ = polynomial_pd(set_2_data['sqft_living'], 15)\n",
    "set_3_X, _ = polynomial_pd(set_3_data['sqft_living'], 15)\n",
    "set_4_X, _ = polynomial_pd(set_4_data['sqft_living'], 15)\n"
   ]
  },
  {
   "cell_type": "code",
   "execution_count": null,
   "metadata": {},
   "outputs": [],
   "source": [
    "set_1_X"
   ]
  },
  {
   "cell_type": "code",
   "execution_count": 20,
   "metadata": {},
   "outputs": [],
   "source": [
    "model_pd2_1 = linear_model.Ridge(alpha=l2_small_penalty2, normalize=True)\n",
    "model_pd2_2 = linear_model.Ridge(alpha=l2_small_penalty2, normalize=True)\n",
    "model_pd2_3 = linear_model.Ridge(alpha=l2_small_penalty2, normalize=True)\n",
    "model_pd2_4 = linear_model.Ridge(alpha=l2_small_penalty2, normalize=True)\n",
    "fit_1 = model_pd2_1.fit(set_1_X, set_1_data['price'])\n",
    "fit_2 = model_pd2_2.fit(set_2_X, set_2_data['price'])\n",
    "fit_3 = model_pd2_3.fit(set_3_X, set_3_data['price'])\n",
    "fit_4 = model_pd2_4.fit(set_4_X, set_4_data['price'])"
   ]
  },
  {
   "cell_type": "code",
   "execution_count": null,
   "metadata": {},
   "outputs": [],
   "source": [
    "plt.subplot(2,2,1)\n",
    "plt.plot(set_1_X['power_1'], set_1_data['price'],'.', set_1_X['power_1'], model_pd2_1.predict(set_1_X),'-')\n",
    "plt.subplot(2,2,2)\n",
    "plt.plot(set_2_X['power_1'], set_2_data['price'],'.', set_2_X['power_1'], model_pd2_2.predict(set_2_X),'-')\n",
    "plt.subplot(2,2,3)\n",
    "plt.plot(set_3_X['power_1'], set_3_data['price'],'.', set_3_X['power_1'], model_pd2_3.predict(set_3_X),'-')\n",
    "plt.subplot(2,2,4)\n",
    "plt.plot(set_4_X['power_1'], set_4_data['price'],'.', set_4_X['power_1'], model_pd2_4.predict(set_4_X),'-')"
   ]
  },
  {
   "cell_type": "code",
   "execution_count": 21,
   "metadata": {},
   "outputs": [
    {
     "name": "stdout",
     "output_type": "stream",
     "text": [
      "[ 5.44669398e+02 -3.55447605e-01  1.22446382e-04 -1.17175318e-08\n",
      " -3.90512295e-13 -1.39076633e-17  1.47860337e-20  6.87491612e-25\n",
      " -7.57203949e-29 -1.04097310e-32 -3.71844032e-37  3.39989217e-41\n",
      "  5.56592061e-45  2.53761389e-49 -3.35152920e-53]\n"
     ]
    }
   ],
   "source": [
    "print(model_pd2_1.coef_)"
   ]
  },
  {
   "cell_type": "code",
   "execution_count": null,
   "metadata": {},
   "outputs": [],
   "source": [
    "print(model_pd2_2.coef_)"
   ]
  },
  {
   "cell_type": "code",
   "execution_count": null,
   "metadata": {},
   "outputs": [],
   "source": [
    "print(model_pd2_3.coef_)"
   ]
  },
  {
   "cell_type": "code",
   "execution_count": null,
   "metadata": {},
   "outputs": [],
   "source": [
    "print(model_pd2_4.coef_)"
   ]
  },
  {
   "cell_type": "code",
   "execution_count": null,
   "metadata": {},
   "outputs": [],
   "source": [
    "l2_large_penalty=1.23e2"
   ]
  },
  {
   "cell_type": "code",
   "execution_count": null,
   "metadata": {},
   "outputs": [],
   "source": [
    "model_pd2_5 = linear_model.Ridge(alpha=l2_large_penalty, normalize=True)\n",
    "model_pd2_6 = linear_model.Ridge(alpha=l2_large_penalty, normalize=True)\n",
    "model_pd2_7 = linear_model.Ridge(alpha=l2_large_penalty, normalize=True)\n",
    "model_pd2_8 = linear_model.Ridge(alpha=l2_large_penalty, normalize=True)\n",
    "fit_5 = model_pd2_5.fit(set_1_X, set_1_data['price'])\n",
    "fit_6 = model_pd2_6.fit(set_2_X, set_2_data['price'])\n",
    "fit_7 = model_pd2_7.fit(set_3_X, set_3_data['price'])\n",
    "fit_8 = model_pd2_8.fit(set_4_X, set_4_data['price'])"
   ]
  },
  {
   "cell_type": "code",
   "execution_count": null,
   "metadata": {},
   "outputs": [],
   "source": [
    "print(model_pd2_5.coef_)"
   ]
  },
  {
   "cell_type": "code",
   "execution_count": null,
   "metadata": {},
   "outputs": [],
   "source": [
    "print(model_pd2_6.coef_)"
   ]
  },
  {
   "cell_type": "code",
   "execution_count": null,
   "metadata": {},
   "outputs": [],
   "source": [
    "print(model_pd2_7.coef_)"
   ]
  },
  {
   "cell_type": "code",
   "execution_count": null,
   "metadata": {},
   "outputs": [],
   "source": [
    "print(model_pd2_8.coef_)"
   ]
  },
  {
   "cell_type": "code",
   "execution_count": null,
   "metadata": {},
   "outputs": [],
   "source": [
    "plt.plot(set_1_X['power_1'], set_1_data['price'],'.', set_1_X['power_1'], model_pd2_5.predict(set_1_X),'-')"
   ]
  },
  {
   "cell_type": "code",
   "execution_count": null,
   "metadata": {},
   "outputs": [],
   "source": [
    "train_valid_shuffled = pd.read_csv('wk3_kc_house_train_valid_shuffled.csv', dtype=dtype_dict)\n",
    "test = pd.read_csv('wk3_kc_house_test_data.csv', dtype=dtype_dict)"
   ]
  },
  {
   "cell_type": "code",
   "execution_count": null,
   "metadata": {},
   "outputs": [],
   "source": [
    "test.shape"
   ]
  },
  {
   "cell_type": "code",
   "execution_count": null,
   "metadata": {},
   "outputs": [],
   "source": [
    "n = len(train_valid_shuffled)\n",
    "k = 10 # 10-fold cross-validation\n",
    "\n",
    "for i in range(k):\n",
    "    start = (n*i)/k\n",
    "    end = (n*(i+1))/k-1\n",
    "    print (i, (start, end))"
   ]
  },
  {
   "cell_type": "code",
   "execution_count": null,
   "metadata": {},
   "outputs": [],
   "source": [
    "def k_fold_cross_validation(k, l2_penalty, data, output):\n",
    "    n = len(data)\n",
    "    error_total = 0\n",
    "    for i in range(0, k):\n",
    "        start = (int)((n*i)/k)\n",
    "        end = (int)((n*(i+1))/k-1)\n",
    "        \n",
    "        \n",
    "        validation_set = data[start: end + 1]\n",
    "        output_validation = output[start: end + 1]\n",
    "        \n",
    "        training_set = data[end + 1: n]\n",
    "        output_training = output[end + 1: n]\n",
    "        \n",
    "        \n",
    "        \n",
    "        training_set = data[0:start].append(data[end+1:n])\n",
    "        output_training = output[0:start].append(output[end+1:n])\n",
    "        \n",
    "        \n",
    "        \n",
    "        model = linear_model.Ridge(alpha=l2_penalty, normalize=True)\n",
    "        model.fit(training_set, output_training)\n",
    "        fit = model.predict(validation_set)\n",
    "        RSS = np.sum(np.square(np.subtract(fit, output_validation)))\n",
    "        error_total += RSS\n",
    "        \n",
    "    avg_valid_err = error_total/n\n",
    "    return avg_valid_err"
   ]
  },
  {
   "cell_type": "code",
   "execution_count": null,
   "metadata": {},
   "outputs": [],
   "source": [
    "lowest = -1\n",
    "lowest_l2 = 0\n",
    "for l2_penalty_loop in np.logspace(3,9, num=13):\n",
    "    data_loop, my_features_loop = polynomial_pd(train_valid_shuffled['sqft_living'], 15)\n",
    "    data_price = train_valid_shuffled['price']\n",
    "    avg_valid_err = k_fold_cross_validation(10, l2_penalty_loop, data_loop, data_price)\n",
    "    \n",
    "    if lowest == -1 or avg_valid_err < lowest:\n",
    "        lowest = avg_valid_err\n",
    "        lowest_l2 = l2_penalty_loop"
   ]
  },
  {
   "cell_type": "code",
   "execution_count": null,
   "metadata": {},
   "outputs": [],
   "source": [
    "print(lowest)\n",
    "print(lowest_l2)"
   ]
  },
  {
   "cell_type": "code",
   "execution_count": null,
   "metadata": {},
   "outputs": [],
   "source": [
    "model_last = linear_model.Ridge(alpha = 1000, normalize = True)\n",
    "test_data, _ = polynomial_pd(test['sqft_living'], 15)\n",
    "test_price = test['price']\n",
    "model_last.fit(test_data, test_price)\n",
    "RSS_test = np.sum(np.square(np.subtract(model_last.predict(test_data), test_price)))\n",
    "print(\"%.4E\" % RSS_test)"
   ]
  },
  {
   "cell_type": "code",
   "execution_count": null,
   "metadata": {},
   "outputs": [],
   "source": []
  }
 ],
 "metadata": {
  "kernelspec": {
   "display_name": "Python 3",
   "language": "python",
   "name": "python3"
  },
  "language_info": {
   "codemirror_mode": {
    "name": "ipython",
    "version": 3
   },
   "file_extension": ".py",
   "mimetype": "text/x-python",
   "name": "python",
   "nbconvert_exporter": "python",
   "pygments_lexer": "ipython3",
   "version": "3.7.6"
  }
 },
 "nbformat": 4,
 "nbformat_minor": 4
}
